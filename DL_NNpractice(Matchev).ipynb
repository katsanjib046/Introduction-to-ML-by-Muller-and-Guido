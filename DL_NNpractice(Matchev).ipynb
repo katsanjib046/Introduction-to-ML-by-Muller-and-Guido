{
 "cells": [
  {
   "cell_type": "markdown",
   "metadata": {
    "id": "rVdvbg_GWWtt"
   },
   "source": [
    "# General guidelines for building neural networks "
   ]
  },
  {
   "cell_type": "markdown",
   "metadata": {
    "id": "mg3g05NwW1SX"
   },
   "source": [
    "Picking the right network architecture is more of an art than a science, and only practice can help you become an expert neural-network architect. Below we shall work through several examples illustrating different classification and regression tasks. \n",
    "\n",
    "Some general guidelines/best practices to keep in mind are the following:\n",
    "\n",
    "1. The input data has to be in tensor format, whose shape needs to be explicitly specified in the input layer. The terminology for the three key tensor attributes:\n",
    "  * **rank** or **number of axes**: number of matrix indices, check with .ndim\n",
    "  * **dimension**: number of entries for each index, check with .shape\n",
    "  * **data type**: what type of data is contained in the tensor, check with .dtype\n",
    "2. Data labelling conventions\n",
    "  * **vector data**: the first axis (axis 0) is the samples axis, so a typical dataset is a 2D tensor of shape (samples, features). Typically processed with **dense** or **fully-connected** layers.\n",
    "  * **timeseries data**: when one of the variables is time, then a 3D tensor of shape (samples, timesteps, features). By convention, time is on axis 1. Typically processed with **recurrent** or **LSTM** layers. \n",
    "  * **images**: 4D tensors of shape (samples, height, width, channels) with 1 channel for grayscale images and 3 channels for color images. Be aware of different conventions (channels-last in TensorFlor and channels-first in Theano). Keras supports both formats. Typically processed with **2D convolution** layers. \n",
    "  * **video**: 5D tensors of shape (samples, frames, height, width, channels). \n",
    "3. The notion of data batches. Typically, deep-learning models do not process the entire dataset at once; rather the data is broken into small batches formed at random. The three alternatives are:\n",
    "  * **True SGD**: use a single sample at each iteration (too random)\n",
    "  * **Batch SGD**: use the full dataset at each iteration (too slow)\n",
    "  * **Mini-batch SGD**: use a mini-batch of a fixed size (good compromise)\n",
    "4. There are several variants of SGD which can be used as optimizers. They differ from SGD by taking into account previous weight updates when computing the next weight update, and not just the current state of the system. Many of them use **momentum**, which can increase convergence rate and avoid getting stuck in local minima. The common optimizers are:\n",
    "  * **RMSprop**: uses an adaptive learning rate instead of treating it as a fixed hyperparameter. It decreases the step for large gradients to avoid exploding, and increases the step for small gradients to avoid stalling. \n",
    "  * **SGD with momentum**: <a href=\"https://distill.pub/2017/momentum/\">Why momentum really works</a>\n",
    "5. Epochs: the number of iterations over **all** of the training data. Also needs to be chosen wisely:\n",
    "  * if too many, run the risk of overtraining\n",
    "  * if too few, run the risk of not learning.\n",
    "6. Topology of the neural network: how the layers are organized.\n",
    "  * **Sequential**: a linear stack of layers.\n",
    "  * **Multi-branch networks**, **multihead networks**, etc.\n",
    "\n",
    "\n"
   ]
  },
  {
   "cell_type": "markdown",
   "metadata": {
    "id": "97H9WpsiezZz"
   },
   "source": [
    "# Example 1: Toy example of <font color=\"#FA4616\">**orange**</font> versus <font color=\"#003087\">**blue**</font> point classification"
   ]
  },
  {
   "cell_type": "markdown",
   "metadata": {
    "id": "CyBb6AZypKux"
   },
   "source": [
    "Go to the <a href=\"http://playground.tensorflow.org\">TensorFlow Playground</a>. There are a total of 6 datasets: 4 for classification and 2 for regression.\n",
    "\n",
    "* Orange dot = $-1$.\n",
    "* Blue dot = $+1$.\n",
    "\n",
    "Feel free to explore the website, play with the settings and have some fun classifying <font color=\"#FA4616\">**ORANGE**</font> versus <font color=\"#003087\">**BLUE**</font>! In particular, you may try the following challenges:\n",
    "\n",
    "1. Try training with the default layer configuration (4+2). Notice how the neurons in the first layer learn simple patterns while the neurons in the second layer learn to combine those into more complex patterns. Can you successfully classify each of the 4 datasets?\n",
    "2. In general, the more layers there are, the more complex the patterns can be. Try adding some more layers and see if this expectation holds true.\n",
    "3. Explore the effect of different activation functions. For example, compare the default tanh with ReLU. Notice that typically ReLU finds the solution faster, but the boundaries are linear, which is due to the shape of the ReLU function.\n",
    "4. The risk of local minima. Simplify the network architecture to a single layer with just 3 neurons. Train it multiple times (you may also try different activation functions). To reset the weights, click the Reset button to the left of the Play button. Notice how the training time varies a lot, and sometimes it even gets stuck in a local minimum.\n",
    "5. What happens when the neural network is too small? Which datasets can you classify with only two neurons? With a single neuron?\n",
    "6. What happens when the neural network is too large? Set the number of neurons to eight and train multiple times. Notice that now for the easy datasets it is consistently fast and never gets stuck in a local minimum. This illustrates an important finding in neural network theory: large neural networks rarely get stuck in local minima, and even when they do, these local minima are almost as good as the global one.\n",
    "7. The swirl dataset is a tough challenge. A single layer, even with as many as 8 neurons, has a hard time classifying it correctly. One potential solution is feature engineering - feed all 7 properties of the two features into the network.\n",
    "8. The risk of vanishing gradients in deep networks. Focus again on the swirl dataset and change the architecture to 4 layers with 8 neurons each. Notice that training takes much longer and often gets stuck on plateaus for long periods of time. Also notice that neurons in the highest layers (on the right) tend to evolve faster than the neurons in the lowest layers (on the left). This is a manifestation of the so called **vanishing gradients problem**.  \n",
    "\n",
    "Further reading:\n",
    "\n",
    "* <a href=\"https://cloud.google.com/blog/products/gcp/understanding-neural-networks-with-tensorflow-playground\">Understanding neural networks with TensorFlow Playground</a>\n",
    "* <a href=\"https://medium.com/@andrewt3000/understanding-tensorflow-playground-c20cdb7a250b\">Understanding Deep Learning with TensorFlow playground</a>"
   ]
  },
  {
   "cell_type": "markdown",
   "metadata": {
    "id": "VDxAECq2x4lj"
   },
   "source": [
    "# Example 2: Binary classification on the IMDB dataset"
   ]
  },
  {
   "cell_type": "markdown",
   "metadata": {
    "id": "_uC35MK5FJLF"
   },
   "source": [
    "**Two-class** classification, or **binary** classification, may be the most widely applied kind of machine learning problem. In this example, we will learn to classify movie reviews into \"positive\" reviews and \"negative\" reviews, just based on the text content of the reviews."
   ]
  },
  {
   "cell_type": "markdown",
   "metadata": {
    "id": "1qQ_7rENFxfb"
   },
   "source": [
    "## The IMDB dataset"
   ]
  },
  {
   "cell_type": "markdown",
   "metadata": {
    "id": "ITMRUMWrF2vw"
   },
   "source": [
    "The \"IMDB dataset\" is a set of 50,000 highly-polarized reviews from the Internet Movie Database. They are split into 25,000 reviews for training and 25,000 reviews for testing, each set consisting of 50% negative and 50% positive reviews. The dataset has already been preprocessed: the reviews (sequences of words) have been turned into sequences of integers, where each integer stands for a specific word in the dictionary."
   ]
  },
  {
   "cell_type": "code",
   "execution_count": 1,
   "metadata": {
    "id": "fWIk50F5Ggav"
   },
   "outputs": [],
   "source": [
    "from keras.datasets import imdb\n",
    "\n",
    "(train_data, train_labels), (test_data, test_labels) = imdb.load_data(num_words=10000)"
   ]
  },
  {
   "cell_type": "markdown",
   "metadata": {
    "id": "z7s2BILTGt8V"
   },
   "source": [
    "The argument num_words=10,000 means that we'll only keep the top 10,000 most frequently occurring words in the training data; rare words will be discarded. This allows us to work with vectors of manageable size. \n",
    "\n",
    "Let's first explore the data. Each review is a list of word indices (encoding a sequence of words). Each label is 0 (negative review) or 1 (positive review)."
   ]
  },
  {
   "cell_type": "code",
   "execution_count": 2,
   "metadata": {
    "colab": {
     "base_uri": "https://localhost:8080/"
    },
    "id": "1LAqkrJcH3b2",
    "outputId": "911ff649-e672-46e2-9d60-fb1c2b05274f"
   },
   "outputs": [
    {
     "data": {
      "text/plain": [
       "array([list([1, 14, 22, 16, 43, 530, 973, 1622, 1385, 65, 458, 4468, 66, 3941, 4, 173, 36, 256, 5, 25, 100, 43, 838, 112, 50, 670, 2, 9, 35, 480, 284, 5, 150, 4, 172, 112, 167, 2, 336, 385, 39, 4, 172, 4536, 1111, 17, 546, 38, 13, 447, 4, 192, 50, 16, 6, 147, 2025, 19, 14, 22, 4, 1920, 4613, 469, 4, 22, 71, 87, 12, 16, 43, 530, 38, 76, 15, 13, 1247, 4, 22, 17, 515, 17, 12, 16, 626, 18, 2, 5, 62, 386, 12, 8, 316, 8, 106, 5, 4, 2223, 5244, 16, 480, 66, 3785, 33, 4, 130, 12, 16, 38, 619, 5, 25, 124, 51, 36, 135, 48, 25, 1415, 33, 6, 22, 12, 215, 28, 77, 52, 5, 14, 407, 16, 82, 2, 8, 4, 107, 117, 5952, 15, 256, 4, 2, 7, 3766, 5, 723, 36, 71, 43, 530, 476, 26, 400, 317, 46, 7, 4, 2, 1029, 13, 104, 88, 4, 381, 15, 297, 98, 32, 2071, 56, 26, 141, 6, 194, 7486, 18, 4, 226, 22, 21, 134, 476, 26, 480, 5, 144, 30, 5535, 18, 51, 36, 28, 224, 92, 25, 104, 4, 226, 65, 16, 38, 1334, 88, 12, 16, 283, 5, 16, 4472, 113, 103, 32, 15, 16, 5345, 19, 178, 32]),\n",
       "       list([1, 194, 1153, 194, 8255, 78, 228, 5, 6, 1463, 4369, 5012, 134, 26, 4, 715, 8, 118, 1634, 14, 394, 20, 13, 119, 954, 189, 102, 5, 207, 110, 3103, 21, 14, 69, 188, 8, 30, 23, 7, 4, 249, 126, 93, 4, 114, 9, 2300, 1523, 5, 647, 4, 116, 9, 35, 8163, 4, 229, 9, 340, 1322, 4, 118, 9, 4, 130, 4901, 19, 4, 1002, 5, 89, 29, 952, 46, 37, 4, 455, 9, 45, 43, 38, 1543, 1905, 398, 4, 1649, 26, 6853, 5, 163, 11, 3215, 2, 4, 1153, 9, 194, 775, 7, 8255, 2, 349, 2637, 148, 605, 2, 8003, 15, 123, 125, 68, 2, 6853, 15, 349, 165, 4362, 98, 5, 4, 228, 9, 43, 2, 1157, 15, 299, 120, 5, 120, 174, 11, 220, 175, 136, 50, 9, 4373, 228, 8255, 5, 2, 656, 245, 2350, 5, 4, 9837, 131, 152, 491, 18, 2, 32, 7464, 1212, 14, 9, 6, 371, 78, 22, 625, 64, 1382, 9, 8, 168, 145, 23, 4, 1690, 15, 16, 4, 1355, 5, 28, 6, 52, 154, 462, 33, 89, 78, 285, 16, 145, 95]),\n",
       "       list([1, 14, 47, 8, 30, 31, 7, 4, 249, 108, 7, 4, 5974, 54, 61, 369, 13, 71, 149, 14, 22, 112, 4, 2401, 311, 12, 16, 3711, 33, 75, 43, 1829, 296, 4, 86, 320, 35, 534, 19, 263, 4821, 1301, 4, 1873, 33, 89, 78, 12, 66, 16, 4, 360, 7, 4, 58, 316, 334, 11, 4, 1716, 43, 645, 662, 8, 257, 85, 1200, 42, 1228, 2578, 83, 68, 3912, 15, 36, 165, 1539, 278, 36, 69, 2, 780, 8, 106, 14, 6905, 1338, 18, 6, 22, 12, 215, 28, 610, 40, 6, 87, 326, 23, 2300, 21, 23, 22, 12, 272, 40, 57, 31, 11, 4, 22, 47, 6, 2307, 51, 9, 170, 23, 595, 116, 595, 1352, 13, 191, 79, 638, 89, 2, 14, 9, 8, 106, 607, 624, 35, 534, 6, 227, 7, 129, 113]),\n",
       "       ...,\n",
       "       list([1, 11, 6, 230, 245, 6401, 9, 6, 1225, 446, 2, 45, 2174, 84, 8322, 4007, 21, 4, 912, 84, 2, 325, 725, 134, 2, 1715, 84, 5, 36, 28, 57, 1099, 21, 8, 140, 8, 703, 5, 2, 84, 56, 18, 1644, 14, 9, 31, 7, 4, 9406, 1209, 2295, 2, 1008, 18, 6, 20, 207, 110, 563, 12, 8, 2901, 2, 8, 97, 6, 20, 53, 4767, 74, 4, 460, 364, 1273, 29, 270, 11, 960, 108, 45, 40, 29, 2961, 395, 11, 6, 4065, 500, 7, 2, 89, 364, 70, 29, 140, 4, 64, 4780, 11, 4, 2678, 26, 178, 4, 529, 443, 2, 5, 27, 710, 117, 2, 8123, 165, 47, 84, 37, 131, 818, 14, 595, 10, 10, 61, 1242, 1209, 10, 10, 288, 2260, 1702, 34, 2901, 2, 4, 65, 496, 4, 231, 7, 790, 5, 6, 320, 234, 2766, 234, 1119, 1574, 7, 496, 4, 139, 929, 2901, 2, 7750, 5, 4241, 18, 4, 8497, 2, 250, 11, 1818, 7561, 4, 4217, 5408, 747, 1115, 372, 1890, 1006, 541, 9303, 7, 4, 59, 2, 4, 3586, 2]),\n",
       "       list([1, 1446, 7079, 69, 72, 3305, 13, 610, 930, 8, 12, 582, 23, 5, 16, 484, 685, 54, 349, 11, 4120, 2959, 45, 58, 1466, 13, 197, 12, 16, 43, 23, 2, 5, 62, 30, 145, 402, 11, 4131, 51, 575, 32, 61, 369, 71, 66, 770, 12, 1054, 75, 100, 2198, 8, 4, 105, 37, 69, 147, 712, 75, 3543, 44, 257, 390, 5, 69, 263, 514, 105, 50, 286, 1814, 23, 4, 123, 13, 161, 40, 5, 421, 4, 116, 16, 897, 13, 2, 40, 319, 5872, 112, 6700, 11, 4803, 121, 25, 70, 3468, 4, 719, 3798, 13, 18, 31, 62, 40, 8, 7200, 4, 2, 7, 14, 123, 5, 942, 25, 8, 721, 12, 145, 5, 202, 12, 160, 580, 202, 12, 6, 52, 58, 2, 92, 401, 728, 12, 39, 14, 251, 8, 15, 251, 5, 2, 12, 38, 84, 80, 124, 12, 9, 23]),\n",
       "       list([1, 17, 6, 194, 337, 7, 4, 204, 22, 45, 254, 8, 106, 14, 123, 4, 2, 270, 2, 5, 2, 2, 732, 2098, 101, 405, 39, 14, 1034, 4, 1310, 9, 115, 50, 305, 12, 47, 4, 168, 5, 235, 7, 38, 111, 699, 102, 7, 4, 4039, 9245, 9, 24, 6, 78, 1099, 17, 2345, 2, 21, 27, 9685, 6139, 5, 2, 1603, 92, 1183, 4, 1310, 7, 4, 204, 42, 97, 90, 35, 221, 109, 29, 127, 27, 118, 8, 97, 12, 157, 21, 6789, 2, 9, 6, 66, 78, 1099, 4, 631, 1191, 5, 2642, 272, 191, 1070, 6, 7585, 8, 2197, 2, 2, 544, 5, 383, 1271, 848, 1468, 2, 497, 2, 8, 1597, 8778, 2, 21, 60, 27, 239, 9, 43, 8368, 209, 405, 10, 10, 12, 764, 40, 4, 248, 20, 12, 16, 5, 174, 1791, 72, 7, 51, 6, 1739, 22, 4, 204, 131, 9])],\n",
       "      dtype=object)"
      ]
     },
     "execution_count": 2,
     "metadata": {
      "tags": []
     },
     "output_type": "execute_result"
    }
   ],
   "source": [
    "train_data"
   ]
  },
  {
   "cell_type": "code",
   "execution_count": 3,
   "metadata": {
    "colab": {
     "base_uri": "https://localhost:8080/"
    },
    "id": "R1ysEhMGIFBK",
    "outputId": "f3f1abe9-45e1-4d47-aad5-d3e055e335be"
   },
   "outputs": [
    {
     "data": {
      "text/plain": [
       "array([1, 0, 0, ..., 0, 1, 0])"
      ]
     },
     "execution_count": 3,
     "metadata": {
      "tags": []
     },
     "output_type": "execute_result"
    }
   ],
   "source": [
    "train_labels"
   ]
  },
  {
   "cell_type": "markdown",
   "metadata": {
    "id": "bvMuhq3tIIAJ"
   },
   "source": [
    "Check attributes:"
   ]
  },
  {
   "cell_type": "code",
   "execution_count": 4,
   "metadata": {
    "colab": {
     "base_uri": "https://localhost:8080/"
    },
    "id": "A_3UMFLWILGB",
    "outputId": "c86abd04-1f2b-4823-ad13-80fab2e7aa44"
   },
   "outputs": [
    {
     "data": {
      "text/plain": [
       "1"
      ]
     },
     "execution_count": 4,
     "metadata": {
      "tags": []
     },
     "output_type": "execute_result"
    }
   ],
   "source": [
    "train_data.ndim"
   ]
  },
  {
   "cell_type": "code",
   "execution_count": 5,
   "metadata": {
    "colab": {
     "base_uri": "https://localhost:8080/"
    },
    "id": "FgMgQFDbIQQc",
    "outputId": "25803970-540a-404b-dac0-715bd3cd4d65"
   },
   "outputs": [
    {
     "data": {
      "text/plain": [
       "(25000,)"
      ]
     },
     "execution_count": 5,
     "metadata": {
      "tags": []
     },
     "output_type": "execute_result"
    }
   ],
   "source": [
    "train_data.shape"
   ]
  },
  {
   "cell_type": "code",
   "execution_count": 6,
   "metadata": {
    "colab": {
     "base_uri": "https://localhost:8080/"
    },
    "id": "SahFonahJGSz",
    "outputId": "9f2b7a6b-b574-4a4e-fcf7-95f99344ba44"
   },
   "outputs": [
    {
     "data": {
      "text/plain": [
       "dtype('O')"
      ]
     },
     "execution_count": 6,
     "metadata": {
      "tags": []
     },
     "output_type": "execute_result"
    }
   ],
   "source": [
    "train_data.dtype"
   ]
  },
  {
   "cell_type": "code",
   "execution_count": 7,
   "metadata": {
    "colab": {
     "base_uri": "https://localhost:8080/"
    },
    "id": "brzheNznJKCQ",
    "outputId": "eefd44fa-1135-4172-c57e-e0ca97bbd7c0"
   },
   "outputs": [
    {
     "data": {
      "text/plain": [
       "1"
      ]
     },
     "execution_count": 7,
     "metadata": {
      "tags": []
     },
     "output_type": "execute_result"
    }
   ],
   "source": [
    "train_labels.ndim"
   ]
  },
  {
   "cell_type": "code",
   "execution_count": 8,
   "metadata": {
    "colab": {
     "base_uri": "https://localhost:8080/"
    },
    "id": "RIY_7YWiJO4z",
    "outputId": "7184a2f1-2f75-48b0-c883-9a6dfb6a87e1"
   },
   "outputs": [
    {
     "data": {
      "text/plain": [
       "(25000,)"
      ]
     },
     "execution_count": 8,
     "metadata": {
      "tags": []
     },
     "output_type": "execute_result"
    }
   ],
   "source": [
    "train_labels.shape"
   ]
  },
  {
   "cell_type": "code",
   "execution_count": 9,
   "metadata": {
    "colab": {
     "base_uri": "https://localhost:8080/"
    },
    "id": "w71benOoIXCy",
    "outputId": "791ebb14-e4a2-48d9-9aa9-0acb3d108b02"
   },
   "outputs": [
    {
     "data": {
      "text/plain": [
       "dtype('int64')"
      ]
     },
     "execution_count": 9,
     "metadata": {
      "tags": []
     },
     "output_type": "execute_result"
    }
   ],
   "source": [
    "train_labels.dtype"
   ]
  },
  {
   "cell_type": "markdown",
   "metadata": {
    "id": "6wkdxASzJagd"
   },
   "source": [
    "In order to decode a given review, we have to use the word_index dictionary used to encode the messages:"
   ]
  },
  {
   "cell_type": "code",
   "execution_count": 28,
   "metadata": {
    "colab": {
     "base_uri": "https://localhost:8080/"
    },
    "id": "0dcXh9d5CK7R",
    "outputId": "1586023f-6ff3-4bc3-84b4-6b9e86b2e88b"
   },
   "outputs": [
    {
     "name": "stdout",
     "output_type": "stream",
     "text": [
      "happy birthday =  651 3373\n"
     ]
    }
   ],
   "source": [
    "print(\"happy birthday = \", word_index.get(\"happy\"), word_index.get(\"birthday\"))"
   ]
  },
  {
   "cell_type": "code",
   "execution_count": 30,
   "metadata": {
    "colab": {
     "base_uri": "https://localhost:8080/"
    },
    "id": "-nmQq1n6GDQx",
    "outputId": "df738e5a-deb2-4e7b-dd44-12587efc53a7"
   },
   "outputs": [
    {
     "name": "stdout",
     "output_type": "stream",
     "text": [
      "Go Gators =  137 None\n"
     ]
    }
   ],
   "source": [
    "print(\"Go Gators = \", word_index.get(\"go\"), word_index.get(\"gators\"))"
   ]
  },
  {
   "cell_type": "markdown",
   "metadata": {
    "id": "2exsgKLyGUnx"
   },
   "source": [
    "and invert it:"
   ]
  },
  {
   "cell_type": "code",
   "execution_count": 31,
   "metadata": {
    "id": "j2gcz3iDJlN5"
   },
   "outputs": [],
   "source": [
    "# word_index is a dictionary mapping words to an integer index\n",
    "word_index = imdb.get_word_index()\n",
    "# We reverse it, mapping integer indices to words\n",
    "reverse_word_index = dict([(value, key) for (key, value) in word_index.items()])"
   ]
  },
  {
   "cell_type": "code",
   "execution_count": 32,
   "metadata": {
    "colab": {
     "base_uri": "https://localhost:8080/",
     "height": 156
    },
    "id": "aGF_VnJFJ9oV",
    "outputId": "ffdb6783-005d-43f5-f120-fabace71ea90"
   },
   "outputs": [
    {
     "data": {
      "application/vnd.google.colaboratory.intrinsic+json": {
       "type": "string"
      },
      "text/plain": [
       "\"? this film was just brilliant casting location scenery story direction everyone's really suited the part they played and you could just imagine being there robert ? is an amazing actor and now the same being director ? father came from the same scottish island as myself so i loved the fact there was a real connection with this film the witty remarks throughout the film were great it was just brilliant so much that i bought the film as soon as it was released for ? and would recommend it to everyone to watch and the fly fishing was amazing really cried at the end it was so sad and you know what they say if you cry at a film it must have been good and this definitely was also ? to the two little boy's that played the ? of norman and paul they were just brilliant children are often left out of the ? list i think because the stars that play them all grown up are such a big profile for the whole film but these children are amazing and should be praised for what they have done don't you think the whole story was so lovely because it was true and was someone's life after all that was shared with us all\""
      ]
     },
     "execution_count": 32,
     "metadata": {
      "tags": []
     },
     "output_type": "execute_result"
    }
   ],
   "source": [
    "# We decode the review; note that our indices were offset by 3\n",
    "# because 0, 1 and 2 are reserved indices for \"padding\", \"start of sequence\", and \"unknown\".\n",
    "decoded_review = ' '.join([reverse_word_index.get(i - 3, '?') for i in train_data[0]]) # 0 was a good review\n",
    "decoded_review"
   ]
  },
  {
   "cell_type": "code",
   "execution_count": 13,
   "metadata": {
    "colab": {
     "base_uri": "https://localhost:8080/",
     "height": 122
    },
    "id": "Wbh4cda3KU2Y",
    "outputId": "2cd204f5-be4f-445e-9983-4e330eb272a5"
   },
   "outputs": [
    {
     "data": {
      "application/vnd.google.colaboratory.intrinsic+json": {
       "type": "string"
      },
      "text/plain": [
       "\"? this has to be one of the worst films of the 1990s when my friends i were watching this film being the target audience it was aimed at we just sat watched the first half an hour with our jaws touching the floor at how bad it really was the rest of the time everyone else in the theatre just started talking to each other leaving or generally crying into their popcorn that they actually paid money they had ? working to watch this feeble excuse for a film it must have looked like a great idea on paper but on film it looks like no one in the film has a clue what is going on crap acting crap costumes i can't get across how ? this is to watch save yourself an hour a bit of your life\""
      ]
     },
     "execution_count": 13,
     "metadata": {
      "tags": []
     },
     "output_type": "execute_result"
    }
   ],
   "source": [
    "# We decode the review; note that our indices were offset by 3\n",
    "# because 0, 1 and 2 are reserved indices for \"padding\", \"start of sequence\", and \"unknown\".\n",
    "decoded_review = ' '.join([reverse_word_index.get(i - 3, '?') for i in train_data[2]])  # 2 was a bad review\n",
    "decoded_review"
   ]
  },
  {
   "cell_type": "markdown",
   "metadata": {
    "id": "cdm35uGIK5kT"
   },
   "source": [
    "## Preparing the data"
   ]
  },
  {
   "cell_type": "markdown",
   "metadata": {
    "id": "ZVhy42D_K9Dw"
   },
   "source": [
    "We can't feed lists of integers into a neural network. We have to convert the input in tensor format. In principle there are 2 ways to do this:\n",
    "\n",
    "1. Pad the lists so that they have the same length, then turn them into an integer tensor of shape (samples, word_indices), and make sure the input layer can handle this data (embedding layer).\n",
    "2. One-hot encode the lists into 10,000-dimensional vectors of 0s and 1s, where 0 means the word was present in the review and 1 means the word was absent in the review (the word ordering and frequency information is lost). Note that these vectors will be sparse.\n",
    "\n",
    "Here we use the second option:"
   ]
  },
  {
   "cell_type": "code",
   "execution_count": 33,
   "metadata": {
    "id": "gGiNMKmoNLAb"
   },
   "outputs": [],
   "source": [
    "import numpy as np\n",
    "\n",
    "def vectorize_sequences(sequences, dimension=10000):\n",
    "    # Create an all-zero matrix of shape (len(sequences), dimension)\n",
    "    results = np.zeros((len(sequences), dimension))\n",
    "    for i, words in enumerate(sequences):\n",
    "        results[i, words] = 1.  # set specific indices of results[i] to 1s\n",
    "    return results\n",
    "\n",
    "# Our vectorized training data\n",
    "x_train = vectorize_sequences(train_data)\n",
    "# Our vectorized test data\n",
    "x_test = vectorize_sequences(test_data)"
   ]
  },
  {
   "cell_type": "code",
   "execution_count": 34,
   "metadata": {
    "colab": {
     "base_uri": "https://localhost:8080/"
    },
    "id": "1QLe0a9MNvt4",
    "outputId": "4cc1a756-cb8b-4b5b-8d05-0e97b39c0e59"
   },
   "outputs": [
    {
     "data": {
      "text/plain": [
       "(25000, 10000)"
      ]
     },
     "execution_count": 34,
     "metadata": {
      "tags": []
     },
     "output_type": "execute_result"
    }
   ],
   "source": [
    "x_train.shape"
   ]
  },
  {
   "cell_type": "markdown",
   "metadata": {
    "id": "dLxIxC8qPZnd"
   },
   "source": [
    "Similarly vectorize the labels and convert to float."
   ]
  },
  {
   "cell_type": "code",
   "execution_count": 35,
   "metadata": {
    "id": "ZN-lRFjCPLkm"
   },
   "outputs": [],
   "source": [
    "# Our vectorized labels\n",
    "y_train = np.asarray(train_labels).astype('float32')\n",
    "y_test = np.asarray(test_labels).astype('float32')"
   ]
  },
  {
   "cell_type": "code",
   "execution_count": 36,
   "metadata": {
    "colab": {
     "base_uri": "https://localhost:8080/"
    },
    "id": "zdu-BJkpPNno",
    "outputId": "4bdc5425-8987-4fa2-a60d-9a07f692c547"
   },
   "outputs": [
    {
     "data": {
      "text/plain": [
       "1.0"
      ]
     },
     "execution_count": 36,
     "metadata": {
      "tags": []
     },
     "output_type": "execute_result"
    }
   ],
   "source": [
    "y_train[0]"
   ]
  },
  {
   "cell_type": "markdown",
   "metadata": {
    "id": "N2HLyXKfQW7S"
   },
   "source": [
    "## Building the network"
   ]
  },
  {
   "cell_type": "markdown",
   "metadata": {
    "id": "T9k3YHsTQfCf"
   },
   "source": [
    "Let's use a sequential model with one input layer with 16 neurons, one hidden layer with 16 neurons and an output layer with 1 neuron and a sigmoid activation function, so that the output is between 0 and 1. For a binary classification problem an appropriate choice is binary_crossentropy.\n"
   ]
  },
  {
   "cell_type": "code",
   "execution_count": 37,
   "metadata": {
    "colab": {
     "base_uri": "https://localhost:8080/"
    },
    "id": "qoWksNtgRM_z",
    "outputId": "960ff832-9f38-40ff-8a5f-f80e6d57ae2c"
   },
   "outputs": [
    {
     "name": "stdout",
     "output_type": "stream",
     "text": [
      "Model: \"sequential\"\n",
      "_________________________________________________________________\n",
      "Layer (type)                 Output Shape              Param #   \n",
      "=================================================================\n",
      "dense (Dense)                (None, 16)                160016    \n",
      "_________________________________________________________________\n",
      "dense_1 (Dense)              (None, 16)                272       \n",
      "_________________________________________________________________\n",
      "dense_2 (Dense)              (None, 1)                 17        \n",
      "=================================================================\n",
      "Total params: 160,305\n",
      "Trainable params: 160,305\n",
      "Non-trainable params: 0\n",
      "_________________________________________________________________\n"
     ]
    }
   ],
   "source": [
    "from keras import models\n",
    "from keras import layers\n",
    "\n",
    "model = models.Sequential()\n",
    "model.add(layers.Dense(16, activation='relu', input_shape=(10000,)))\n",
    "model.add(layers.Dense(16, activation='relu'))\n",
    "model.add(layers.Dense(1, activation='sigmoid'))\n",
    "\n",
    "model.summary()"
   ]
  },
  {
   "cell_type": "code",
   "execution_count": 38,
   "metadata": {
    "id": "nmk-IpYFR3EG"
   },
   "outputs": [],
   "source": [
    "model.compile(optimizer='rmsprop',\n",
    "              loss='binary_crossentropy',\n",
    "              metrics=['accuracy'])"
   ]
  },
  {
   "cell_type": "markdown",
   "metadata": {
    "id": "0l5Y1wm7TicZ"
   },
   "source": [
    "## Fitting and validation"
   ]
  },
  {
   "cell_type": "markdown",
   "metadata": {
    "id": "RFbRnTcJmx7f"
   },
   "source": [
    "Let us set aside a subset (10000) of the training data for monitoring and validation and use only the remaining 15000 for training."
   ]
  },
  {
   "cell_type": "code",
   "execution_count": 39,
   "metadata": {
    "id": "-uu9n1vNnN9z"
   },
   "outputs": [],
   "source": [
    "x_val = x_train[:10000]\n",
    "partial_x_train = x_train[10000:]\n",
    "\n",
    "y_val = y_train[:10000]\n",
    "partial_y_train = y_train[10000:]"
   ]
  },
  {
   "cell_type": "code",
   "execution_count": 40,
   "metadata": {
    "colab": {
     "base_uri": "https://localhost:8080/"
    },
    "id": "v67p34M7neAR",
    "outputId": "64605a84-752b-4996-e22a-7bbe312dc68a"
   },
   "outputs": [
    {
     "data": {
      "text/plain": [
       "(10000, 10000)"
      ]
     },
     "execution_count": 40,
     "metadata": {
      "tags": []
     },
     "output_type": "execute_result"
    }
   ],
   "source": [
    "x_val.shape"
   ]
  },
  {
   "cell_type": "code",
   "execution_count": 41,
   "metadata": {
    "colab": {
     "base_uri": "https://localhost:8080/"
    },
    "id": "g5s7u7imnljg",
    "outputId": "b4462298-3241-42cb-ff8f-5d85cc8bd175"
   },
   "outputs": [
    {
     "data": {
      "text/plain": [
       "(15000, 10000)"
      ]
     },
     "execution_count": 41,
     "metadata": {
      "tags": []
     },
     "output_type": "execute_result"
    }
   ],
   "source": [
    "partial_x_train.shape"
   ]
  },
  {
   "cell_type": "markdown",
   "metadata": {
    "id": "AVHnrL4rnuuK"
   },
   "source": [
    "\n",
    "We will now train our model for 20 epochs (20 iterations over all samples in the x_train and y_train tensors), in mini-batches of 512 samples. At this same time we will monitor loss and accuracy on the 10,000 samples that we set apart. This is done by passing the validation data as the validation_data argument:"
   ]
  },
  {
   "cell_type": "code",
   "execution_count": 42,
   "metadata": {
    "colab": {
     "base_uri": "https://localhost:8080/"
    },
    "id": "Ys16t4uKnrSV",
    "outputId": "1b023b51-064a-4da2-c1d7-900a9568e346"
   },
   "outputs": [
    {
     "name": "stdout",
     "output_type": "stream",
     "text": [
      "Epoch 1/20\n",
      "30/30 [==============================] - 2s 56ms/step - loss: 0.5147 - accuracy: 0.7929 - val_loss: 0.3940 - val_accuracy: 0.8731\n",
      "Epoch 2/20\n",
      "30/30 [==============================] - 1s 34ms/step - loss: 0.3128 - accuracy: 0.9047 - val_loss: 0.3087 - val_accuracy: 0.8882\n",
      "Epoch 3/20\n",
      "30/30 [==============================] - 1s 34ms/step - loss: 0.2306 - accuracy: 0.9231 - val_loss: 0.2818 - val_accuracy: 0.8903\n",
      "Epoch 4/20\n",
      "30/30 [==============================] - 1s 35ms/step - loss: 0.1806 - accuracy: 0.9429 - val_loss: 0.2931 - val_accuracy: 0.8836\n",
      "Epoch 5/20\n",
      "30/30 [==============================] - 1s 34ms/step - loss: 0.1449 - accuracy: 0.9535 - val_loss: 0.2801 - val_accuracy: 0.8882\n",
      "Epoch 6/20\n",
      "30/30 [==============================] - 1s 33ms/step - loss: 0.1144 - accuracy: 0.9643 - val_loss: 0.3229 - val_accuracy: 0.8792\n",
      "Epoch 7/20\n",
      "30/30 [==============================] - 1s 33ms/step - loss: 0.0970 - accuracy: 0.9697 - val_loss: 0.3167 - val_accuracy: 0.8841\n",
      "Epoch 8/20\n",
      "30/30 [==============================] - 1s 33ms/step - loss: 0.0763 - accuracy: 0.9795 - val_loss: 0.3339 - val_accuracy: 0.8834\n",
      "Epoch 9/20\n",
      "30/30 [==============================] - 1s 33ms/step - loss: 0.0637 - accuracy: 0.9834 - val_loss: 0.3924 - val_accuracy: 0.8736\n",
      "Epoch 10/20\n",
      "30/30 [==============================] - 1s 33ms/step - loss: 0.0497 - accuracy: 0.9879 - val_loss: 0.4003 - val_accuracy: 0.8720\n",
      "Epoch 11/20\n",
      "30/30 [==============================] - 1s 33ms/step - loss: 0.0418 - accuracy: 0.9899 - val_loss: 0.4081 - val_accuracy: 0.8749\n",
      "Epoch 12/20\n",
      "30/30 [==============================] - 1s 34ms/step - loss: 0.0315 - accuracy: 0.9935 - val_loss: 0.4395 - val_accuracy: 0.8745\n",
      "Epoch 13/20\n",
      "30/30 [==============================] - 1s 34ms/step - loss: 0.0229 - accuracy: 0.9961 - val_loss: 0.4963 - val_accuracy: 0.8727\n",
      "Epoch 14/20\n",
      "30/30 [==============================] - 1s 34ms/step - loss: 0.0182 - accuracy: 0.9975 - val_loss: 0.5130 - val_accuracy: 0.8719\n",
      "Epoch 15/20\n",
      "30/30 [==============================] - 1s 33ms/step - loss: 0.0167 - accuracy: 0.9970 - val_loss: 0.5441 - val_accuracy: 0.8709\n",
      "Epoch 16/20\n",
      "30/30 [==============================] - 1s 34ms/step - loss: 0.0085 - accuracy: 0.9997 - val_loss: 0.5865 - val_accuracy: 0.8662\n",
      "Epoch 17/20\n",
      "30/30 [==============================] - 1s 35ms/step - loss: 0.0099 - accuracy: 0.9987 - val_loss: 0.6162 - val_accuracy: 0.8696\n",
      "Epoch 18/20\n",
      "30/30 [==============================] - 1s 34ms/step - loss: 0.0049 - accuracy: 0.9998 - val_loss: 0.7551 - val_accuracy: 0.8521\n",
      "Epoch 19/20\n",
      "30/30 [==============================] - 1s 34ms/step - loss: 0.0039 - accuracy: 0.9998 - val_loss: 0.7134 - val_accuracy: 0.8614\n",
      "Epoch 20/20\n",
      "30/30 [==============================] - 1s 34ms/step - loss: 0.0058 - accuracy: 0.9990 - val_loss: 0.7375 - val_accuracy: 0.8663\n"
     ]
    }
   ],
   "source": [
    "history = model.fit(partial_x_train,\n",
    "                    partial_y_train,\n",
    "                    epochs=20,\n",
    "                    batch_size=512,\n",
    "                    validation_data=(x_val, y_val))"
   ]
  },
  {
   "cell_type": "markdown",
   "metadata": {
    "id": "w8mx8hTjoPyJ"
   },
   "source": [
    "Note that the call to model.fit() returns a History object. This object has a member history, which is a dictionary containing data about everything that happened during training. Let's take a look at it:"
   ]
  },
  {
   "cell_type": "code",
   "execution_count": 43,
   "metadata": {
    "colab": {
     "base_uri": "https://localhost:8080/"
    },
    "id": "cQX4WRrSoXTa",
    "outputId": "1fb0ce48-4069-4de4-b730-419378b5183b"
   },
   "outputs": [
    {
     "data": {
      "text/plain": [
       "dict_keys(['loss', 'accuracy', 'val_loss', 'val_accuracy'])"
      ]
     },
     "execution_count": 43,
     "metadata": {
      "tags": []
     },
     "output_type": "execute_result"
    }
   ],
   "source": [
    "history_dict = history.history\n",
    "history_dict.keys()"
   ]
  },
  {
   "cell_type": "markdown",
   "metadata": {
    "id": "-ym0mw2HobhG"
   },
   "source": [
    "\n",
    "It contains 4 entries: one per metric that was being monitored, during training and during validation. Let's use Matplotlib to plot the training and validation loss side by side, as well as the training and validation accuracy:"
   ]
  },
  {
   "cell_type": "code",
   "execution_count": 44,
   "metadata": {
    "colab": {
     "base_uri": "https://localhost:8080/",
     "height": 295
    },
    "id": "gOQJ8S2polwA",
    "outputId": "b857b5ee-8e99-4d22-e64d-ee8fd06e46c3"
   },
   "outputs": [
    {
     "data": {
      "image/png": "[encoded data removed]",
      "text/plain": [
       "<Figure size 432x288 with 1 Axes>"
      ]
     },
     "metadata": {
      "needs_background": "light",
      "tags": []
     },
     "output_type": "display_data"
    }
   ],
   "source": [
    "import matplotlib.pyplot as plt\n",
    "\n",
    "acc = history.history['accuracy']\n",
    "val_acc = history.history['val_accuracy']\n",
    "loss = history.history['loss']\n",
    "val_loss = history.history['val_loss']\n",
    "\n",
    "epochs = range(1, len(acc) + 1)\n",
    "\n",
    "# \"bo\" is for \"blue dot\"\n",
    "plt.plot(epochs, loss, 'bo', label='Training loss')\n",
    "# b is for \"solid blue line\"\n",
    "plt.plot(epochs, val_loss, 'b', label='Validation loss')\n",
    "plt.title('Training and validation loss')\n",
    "plt.xlabel('Epochs')\n",
    "plt.ylabel('Loss')\n",
    "plt.legend()\n",
    "\n",
    "plt.show()"
   ]
  },
  {
   "cell_type": "code",
   "execution_count": 45,
   "metadata": {
    "colab": {
     "base_uri": "https://localhost:8080/",
     "height": 295
    },
    "id": "4K94g5tEo_r5",
    "outputId": "345ed4de-d894-42df-a77d-7b6cfdd2e448"
   },
   "outputs": [
    {
     "data": {
      "image/png": "[encoded data removed]",
      "text/plain": [
       "<Figure size 432x288 with 1 Axes>"
      ]
     },
     "metadata": {
      "needs_background": "light",
      "tags": []
     },
     "output_type": "display_data"
    }
   ],
   "source": [
    "plt.clf()   # clear figure\n",
    "\n",
    "plt.plot(epochs, acc, 'bo', label='Training acc')\n",
    "plt.plot(epochs, val_acc, 'b', label='Validation acc')\n",
    "plt.title('Training and validation accuracy')\n",
    "plt.xlabel('Epochs')\n",
    "plt.ylabel('Loss')\n",
    "plt.legend()\n",
    "\n",
    "plt.show()"
   ]
  },
  {
   "cell_type": "markdown",
   "metadata": {
    "id": "of_-RwQWpXtW"
   },
   "source": [
    "As expected, the training loss monotonically decreases and the training accuracy monotonically increases. However, that is not the case with the validation loss and accuracy, which improve until epoch 3-4 and then start getting worse. This is a sign of overfitting. There are several techniques to mitigate overfitting, which will be illustrated next.\n",
    "\n"
   ]
  },
  {
   "cell_type": "markdown",
   "metadata": {
    "id": "Q0hbDCWRZ-fu"
   },
   "source": [
    "## Further experimentation"
   ]
  },
  {
   "cell_type": "markdown",
   "metadata": {
    "id": "gj8-fFOuaOzx"
   },
   "source": [
    "You may play around with the network architecture to gain some confidence that our choices were reasonable.\n",
    "* Try changing the number of hidden layers.\n",
    "* Try changing the number of neurons.\n",
    "* Try a different loss function, e.g. mse.\n",
    "* Try a different activation function, e.g. tanh. \n",
    "\n"
   ]
  },
  {
   "cell_type": "markdown",
   "metadata": {
    "id": "bzFkI08jrDNT"
   },
   "source": [
    "# How to avoid overfitting "
   ]
  },
  {
   "cell_type": "markdown",
   "metadata": {
    "id": "JwIIf53sz5qg"
   },
   "source": [
    "Overfitting happens in every machine-learning problem - the performance of the model on the held-out validation data peaks after a certain number of epochs and then starts degrading. **Learning how to deal with overfitting is essential to mastering machine learning.**\n",
    "\n",
    "The fundamental issue in machine learning is the tension between **optimization** and **generalization**. \n",
    "* **Optimization** refers to the process of adjusting a model to get the best performance possible on the training data (the \"learning\" part of \"machine learning\").\n",
    "* **Generalization** refers to how well the trained model would perform on data it has never seen before. The goal of the game is to get good generalization, of course, but we do not control generalization; we can only adjust the model based on its training data.\n",
    "\n",
    "As we saw in the IMDB example above, training proceeds in two stages:\n",
    "1. **The model is under-fit.** At the beginning of training, optimization and generalization are correlated: the lower the loss on training data, the lower the loss on test data. While this is happening, the model is said to be under-fit: there is still progress to be made; the network hasn't yet modeled all relevant patterns in the training data. \n",
    "2. **The model is overfit.** After a certain number of iterations on the training data, generalization stops improving, validation metrics stall then start degrading: the model is then starting to over-fit, i.e. it is starting to learn patterns that are specific to the training data but that are misleading or irrelevant when it comes to new data.\n",
    "\n",
    "The four most common ways to deal with overfitting are\n",
    "1. Increase the amount of training data (or if not possible, reduce the number of epochs).\n",
    "2. Reduce the capacity of the network.\n",
    "3. Add weight regularization.\n",
    "4. Add dropout.\n"
   ]
  },
  {
   "cell_type": "markdown",
   "metadata": {
    "id": "J28jfZ0DrPU_"
   },
   "source": [
    "## Stop the training process early enough (or get more training data)"
   ]
  },
  {
   "cell_type": "markdown",
   "metadata": {
    "id": "zwYrM379rkIG"
   },
   "source": [
    "We observed that the validation loss started to increase after 4 epochs, so we can simply stop at 4 epochs. We can now train a new network from scratch for 4 epochs, **using the full training dataset**:"
   ]
  },
  {
   "cell_type": "code",
   "execution_count": 46,
   "metadata": {
    "colab": {
     "base_uri": "https://localhost:8080/"
    },
    "id": "aVflor4SsGFj",
    "outputId": "c7f0fce0-b930-4f52-d0f5-d2b7dd7b59d0"
   },
   "outputs": [
    {
     "name": "stdout",
     "output_type": "stream",
     "text": [
      "Epoch 1/4\n",
      "49/49 [==============================] - 1s 27ms/step - loss: 0.4583 - accuracy: 0.8128\n",
      "Epoch 2/4\n",
      "49/49 [==============================] - 1s 27ms/step - loss: 0.2597 - accuracy: 0.9111\n",
      "Epoch 3/4\n",
      "49/49 [==============================] - 1s 27ms/step - loss: 0.1998 - accuracy: 0.9295\n",
      "Epoch 4/4\n",
      "49/49 [==============================] - 1s 27ms/step - loss: 0.1678 - accuracy: 0.9403\n",
      "782/782 [==============================] - 1s 1ms/step - loss: 0.2931 - accuracy: 0.8839\n"
     ]
    }
   ],
   "source": [
    "model = models.Sequential()\n",
    "model.add(layers.Dense(16, activation='relu', input_shape=(10000,)))\n",
    "model.add(layers.Dense(16, activation='relu'))\n",
    "model.add(layers.Dense(1, activation='sigmoid'))\n",
    "\n",
    "model.compile(optimizer='rmsprop',\n",
    "              loss='binary_crossentropy',\n",
    "              metrics=['accuracy'])\n",
    "\n",
    "model.fit(x_train, y_train, epochs=4, batch_size=512)\n",
    "results = model.evaluate(x_test, y_test)"
   ]
  },
  {
   "cell_type": "code",
   "execution_count": 47,
   "metadata": {
    "colab": {
     "base_uri": "https://localhost:8080/"
    },
    "id": "2inp29bEsbny",
    "outputId": "d62ce0e4-43d1-4f38-ca4c-8ae0fcb60f1a"
   },
   "outputs": [
    {
     "data": {
      "text/plain": [
       "[0.29312217235565186, 0.8839200139045715]"
      ]
     },
     "execution_count": 47,
     "metadata": {
      "tags": []
     },
     "output_type": "execute_result"
    }
   ],
   "source": [
    "results"
   ]
  },
  {
   "cell_type": "markdown",
   "metadata": {
    "id": "WXu_Fprztq2a"
   },
   "source": [
    "This simple approach results in an accuracy of 88%."
   ]
  },
  {
   "cell_type": "markdown",
   "metadata": {
    "id": "g5nLxW2mtycR"
   },
   "source": [
    "Let us use the model to predict the likelihood of a review being positive or negative:"
   ]
  },
  {
   "cell_type": "code",
   "execution_count": 48,
   "metadata": {
    "colab": {
     "base_uri": "https://localhost:8080/"
    },
    "id": "p3RcoaFIuCt3",
    "outputId": "f4cc333a-0faf-4031-9326-01741e88087b"
   },
   "outputs": [
    {
     "data": {
      "text/plain": [
       "array([[0.15820348],\n",
       "       [0.9993376 ],\n",
       "       [0.7361716 ],\n",
       "       ...,\n",
       "       [0.0974142 ],\n",
       "       [0.04630074],\n",
       "       [0.6368224 ]], dtype=float32)"
      ]
     },
     "execution_count": 48,
     "metadata": {
      "tags": []
     },
     "output_type": "execute_result"
    }
   ],
   "source": [
    "model.predict(x_test)"
   ]
  },
  {
   "cell_type": "code",
   "execution_count": 49,
   "metadata": {
    "colab": {
     "base_uri": "https://localhost:8080/"
    },
    "id": "HVdCeQU0vP9h",
    "outputId": "f5fc77c5-9059-4afc-8fba-509f1322f906"
   },
   "outputs": [
    {
     "data": {
      "text/plain": [
       "array([[0.15820348],\n",
       "       [0.9993376 ],\n",
       "       [0.7361716 ],\n",
       "       [0.7789465 ],\n",
       "       [0.94997275],\n",
       "       [0.7293724 ],\n",
       "       [0.999508  ],\n",
       "       [0.00718078],\n",
       "       [0.9629725 ],\n",
       "       [0.9903214 ]], dtype=float32)"
      ]
     },
     "execution_count": 49,
     "metadata": {
      "tags": []
     },
     "output_type": "execute_result"
    }
   ],
   "source": [
    "model.predict(x_test)[0:10]   # Look at the first ten predictions"
   ]
  },
  {
   "cell_type": "code",
   "execution_count": 50,
   "metadata": {
    "colab": {
     "base_uri": "https://localhost:8080/"
    },
    "id": "pujvGeqLviVz",
    "outputId": "ebdaddf5-391f-40aa-8223-286404f6ab3b"
   },
   "outputs": [
    {
     "data": {
      "text/plain": [
       "array([[6.3345486e-01],\n",
       "       [1.6143918e-04],\n",
       "       [9.9713922e-01],\n",
       "       [3.8448629e-01],\n",
       "       [9.8947889e-01],\n",
       "       [9.9907756e-01],\n",
       "       [4.9503645e-01],\n",
       "       [9.7414196e-02],\n",
       "       [4.6300739e-02]], dtype=float32)"
      ]
     },
     "execution_count": 50,
     "metadata": {
      "tags": []
     },
     "output_type": "execute_result"
    }
   ],
   "source": [
    "model.predict(x_test)[-10:-1]  # Look at the last ten predictions"
   ]
  },
  {
   "cell_type": "code",
   "execution_count": 52,
   "metadata": {
    "colab": {
     "base_uri": "https://localhost:8080/",
     "height": 156
    },
    "id": "DrqyfEyjwB-S",
    "outputId": "0bc142c3-adb6-44bb-83e8-a429fb6b8285"
   },
   "outputs": [
    {
     "data": {
      "application/vnd.google.colaboratory.intrinsic+json": {
       "type": "string"
      },
      "text/plain": [
       "\"? this film requires a lot of patience because it focuses on mood and character development the plot is very simple and many of the scenes take place on the same set in frances ? the sandy dennis character apartment but the film builds to a disturbing climax br br the characters create an atmosphere ? with sexual tension and psychological ? it's very interesting that robert altman directed this considering the style and structure of his other films still the trademark altman audio style is evident here and there i think what really makes this film work is the brilliant performance by sandy dennis it's definitely one of her darker characters but she plays it so perfectly and convincingly that it's scary michael burns does a good job as the mute young man regular altman player michael murphy has a small part the ? moody set fits the content of the story very well in short this movie is a powerful study of loneliness sexual ? and desperation be patient ? up the atmosphere and pay attention to the wonderfully written script br br i praise robert altman this is one of his many films that deals with unconventional fascinating subject matter this film is disturbing but it's sincere and it's sure to ? a strong emotional response from the viewer if you want to see an unusual film some might even say bizarre this is worth the time br br unfortunately it's very difficult to find in video stores you may have to buy it off the internet\""
      ]
     },
     "execution_count": 52,
     "metadata": {
      "tags": []
     },
     "output_type": "execute_result"
    }
   ],
   "source": [
    "# We decode the review; note that our indices were offset by 3\n",
    "# because 0, 1 and 2 are reserved indices for \"padding\", \"start of sequence\", and \"unknown\".\n",
    "decoded_review = ' '.join([reverse_word_index.get(i - 3, '?') for i in test_data[1]])  # 1 should be a good review\n",
    "decoded_review"
   ]
  },
  {
   "cell_type": "code",
   "execution_count": 53,
   "metadata": {
    "colab": {
     "base_uri": "https://localhost:8080/",
     "height": 139
    },
    "id": "uWXw0N7WxU3z",
    "outputId": "6628c7ee-1312-43f5-ee53-4d166e76f062"
   },
   "outputs": [
    {
     "data": {
      "application/vnd.google.colaboratory.intrinsic+json": {
       "type": "string"
      },
      "text/plain": [
       "'? the ? richard ? dog is ? to ? joan fontaine dog however when ? bing crosby arrives in town to sell a record player to the emperor his dog is attacked by ? dog after a revenge attack where ? is ? from town a ? insists that ? dog must confront dog so that she can overcome her ? fears this is arranged and the dogs fall in love so do ? and ? the rest of the film passes by with romance and at the end ? dog gives birth but who is the father br br the dog story is the very weak vehicle that is used to try and create a story between humans its a terrible storyline there are 3 main musical pieces all of which are rubbish bad songs and dreadful choreography its just an extremely boring film bing has too many words in each sentence and delivers them in an almost irritating manner its not funny ever but its meant to be bing and joan have done much better than this'"
      ]
     },
     "execution_count": 53,
     "metadata": {
      "tags": []
     },
     "output_type": "execute_result"
    }
   ],
   "source": [
    "# We decode the review; note that our indices were offset by 3\n",
    "# because 0, 1 and 2 are reserved indices for \"padding\", \"start of sequence\", and \"unknown\".\n",
    "decoded_review = ' '.join([reverse_word_index.get(i - 3, '?') for i in test_data[7]])  # 7 should be a bad review\n",
    "decoded_review"
   ]
  },
  {
   "cell_type": "code",
   "execution_count": 54,
   "metadata": {
    "colab": {
     "base_uri": "https://localhost:8080/",
     "height": 70
    },
    "id": "S9UCMKJaxmkL",
    "outputId": "3275c489-5ae4-4671-8eb6-9a60fa1a5167"
   },
   "outputs": [
    {
     "data": {
      "application/vnd.google.colaboratory.intrinsic+json": {
       "type": "string"
      },
      "text/plain": [
       "\"? please give this one a miss br br ? ? and the rest of the cast rendered terrible performances the show is flat flat flat br br i don't know how michael madison could have allowed this one on his plate he almost seemed to know this wasn't going to work out and his performance was quite ? so all you madison fans give this a miss\""
      ]
     },
     "execution_count": 54,
     "metadata": {
      "tags": []
     },
     "output_type": "execute_result"
    }
   ],
   "source": [
    "# We decode the review; note that our indices were offset by 3\n",
    "# because 0, 1 and 2 are reserved indices for \"padding\", \"start of sequence\", and \"unknown\".\n",
    "decoded_review = ' '.join([reverse_word_index.get(i - 3, '?') for i in test_data[0]])  # 0 is probably bad\n",
    "decoded_review"
   ]
  },
  {
   "cell_type": "code",
   "execution_count": 55,
   "metadata": {
    "colab": {
     "base_uri": "https://localhost:8080/",
     "height": 87
    },
    "id": "GU8sdnoryLY3",
    "outputId": "d45e21d1-b346-4201-ded0-f4498dc0560a"
   },
   "outputs": [
    {
     "data": {
      "application/vnd.google.colaboratory.intrinsic+json": {
       "type": "string"
      },
      "text/plain": [
       "\"? i suppose that to say this is an all out terrible movie would be unfair but it's pretty bad the sub disney storyline involves dogs playing soccer and falling in love ? how cute the acting isn't bad but definitely could be better especially that of young canadian actor kevin ? who during the whole movie looks embarrassed like he doesn't even want to be there anyway kids will love it but parents beware\""
      ]
     },
     "execution_count": 55,
     "metadata": {
      "tags": []
     },
     "output_type": "execute_result"
    }
   ],
   "source": [
    "# We decode the review; note that our indices were offset by 3\n",
    "# because 0, 1 and 2 are reserved indices for \"padding\", \"start of sequence\", and \"unknown\".\n",
    "decoded_review = ' '.join([reverse_word_index.get(i - 3, '?') for i in test_data[-3]])  # -3 was inconclusive\n",
    "decoded_review"
   ]
  },
  {
   "cell_type": "code",
   "execution_count": 56,
   "metadata": {
    "colab": {
     "base_uri": "https://localhost:8080/",
     "height": 70
    },
    "id": "2v99xwu4ymjn",
    "outputId": "2f95155e-efbe-44d6-ddb9-125efb2189c8"
   },
   "outputs": [
    {
     "data": {
      "application/vnd.google.colaboratory.intrinsic+json": {
       "type": "string"
      },
      "text/plain": [
       "\"? the largest crowd to ever see a wrestling event in the us took place at ? 6 over ? 000 people showed up to break the rolling stones ? record and this event didn't disappoint at all maybe the biggest match of all time took place as the immortal hulk ? his world title against the ultimate warrior there are over 12 matches in all so you get tons of action\""
      ]
     },
     "execution_count": 56,
     "metadata": {
      "tags": []
     },
     "output_type": "execute_result"
    }
   ],
   "source": [
    "# We decode the review; note that our indices were offset by 3\n",
    "# because 0, 1 and 2 are reserved indices for \"padding\", \"start of sequence\", and \"unknown\".\n",
    "decoded_review = ' '.join([reverse_word_index.get(i - 3, '?') for i in test_data[-4]])  # -4 is great\n",
    "decoded_review"
   ]
  },
  {
   "cell_type": "markdown",
   "metadata": {
    "id": "as-17twOy4Zs"
   },
   "source": [
    "## Reduce the network's capacity"
   ]
  },
  {
   "cell_type": "markdown",
   "metadata": {
    "id": "bMiegIYIy-9n"
   },
   "source": [
    "The simplest way to prevent overfitting is to reduce the size of the model, i.e. the number of learnable parameters in the model (which in turn is determined by the number of layers and the number of units per layer). In deep learning, the number of learnable parameters in a model is often referred to as the model's **capacity**. For optimal performance, you need to find the right balance between \"too much capacity\" and \"not enough capacity\":\n",
    "\n",
    "1. **Too much capacity.** Intuitively, a model with more parameters will have more \"memorization capacity\" and therefore will be able to easily learn a perfect dictionary-like mapping between training samples and their targets, a mapping without any generalization power. Always keep this in mind: deep learning models tend to be good at fitting to the training data, but the real challenge is generalization, not fitting.\n",
    "2. **Insufficient capacity.** On the other hand, if the network has limited memorization resources, it will not be able to learn this mapping as easily, and thus, in order to minimize its loss, it will have to resort to learning compressed representations that have predictive power regarding the targets -- precisely the type of representations that we are interested in. At the same time, keep in mind that you should be using models that have enough parameters that they won't be underfitting: your model shouldn't be starved for memorization resources. \n",
    "\n",
    "Unfortunately, **there is no magical formula** to determine what the right number of layers is, or what the right size for each layer is. You will have to evaluate an array of different architectures (on your validation set, not on your test set, of course) in order to find the right model size for your data. The general workflow to find an appropriate model size is to start with relatively few layers and parameters, and start increasing the size of the layers or adding new layers until you see diminishing returns with regard to the validation loss."
   ]
  },
  {
   "cell_type": "markdown",
   "metadata": {
    "id": "YeeKO1ivixSx"
   },
   "source": [
    "Let's illustrate with the IMDB example. First reproduce the original model with 16 neurons per layer."
   ]
  },
  {
   "cell_type": "code",
   "execution_count": 57,
   "metadata": {
    "id": "nwXhq3KO548N"
   },
   "outputs": [],
   "source": [
    "original_model = models.Sequential()\n",
    "original_model.add(layers.Dense(16, activation='relu', input_shape=(10000,)))\n",
    "original_model.add(layers.Dense(16, activation='relu'))\n",
    "original_model.add(layers.Dense(1, activation='sigmoid'))\n",
    "\n",
    "original_model.compile(optimizer='rmsprop',\n",
    "                       loss='binary_crossentropy',\n",
    "                       metrics=['acc'])"
   ]
  },
  {
   "cell_type": "markdown",
   "metadata": {
    "id": "cTlVVkpm5-uB"
   },
   "source": [
    "Now create a new smaller network with lower capacity (4 neurons per layer instead of 16):"
   ]
  },
  {
   "cell_type": "code",
   "execution_count": 58,
   "metadata": {
    "id": "VweniTXJjF1H"
   },
   "outputs": [],
   "source": [
    "smaller_model = models.Sequential()\n",
    "smaller_model.add(layers.Dense(4, activation='relu', input_shape=(10000,)))\n",
    "smaller_model.add(layers.Dense(4, activation='relu'))\n",
    "smaller_model.add(layers.Dense(1, activation='sigmoid'))\n",
    "\n",
    "smaller_model.compile(optimizer='rmsprop',\n",
    "                      loss='binary_crossentropy',\n",
    "                      metrics=['acc'])"
   ]
  },
  {
   "cell_type": "markdown",
   "metadata": {
    "id": "bc21IuGM6NuS"
   },
   "source": [
    "Then train both models:"
   ]
  },
  {
   "cell_type": "code",
   "execution_count": 59,
   "metadata": {
    "colab": {
     "base_uri": "https://localhost:8080/"
    },
    "id": "CoeaHBA96Qgp",
    "outputId": "6c090224-7b5f-4d53-91e7-e67a8c71f51e"
   },
   "outputs": [
    {
     "name": "stdout",
     "output_type": "stream",
     "text": [
      "Epoch 1/20\n",
      "49/49 [==============================] - 2s 48ms/step - loss: 0.4713 - acc: 0.8205 - val_loss: 0.3462 - val_acc: 0.8812\n",
      "Epoch 2/20\n",
      "49/49 [==============================] - 2s 38ms/step - loss: 0.2663 - acc: 0.9075 - val_loss: 0.2928 - val_acc: 0.8852\n",
      "Epoch 3/20\n",
      "49/49 [==============================] - 2s 38ms/step - loss: 0.2057 - acc: 0.9270 - val_loss: 0.2981 - val_acc: 0.8799\n",
      "Epoch 4/20\n",
      "49/49 [==============================] - 2s 38ms/step - loss: 0.1697 - acc: 0.9384 - val_loss: 0.3241 - val_acc: 0.8723\n",
      "Epoch 5/20\n",
      "49/49 [==============================] - 2s 38ms/step - loss: 0.1477 - acc: 0.9480 - val_loss: 0.3068 - val_acc: 0.8806\n",
      "Epoch 6/20\n",
      "49/49 [==============================] - 2s 39ms/step - loss: 0.1305 - acc: 0.9540 - val_loss: 0.3272 - val_acc: 0.8774\n",
      "Epoch 7/20\n",
      "49/49 [==============================] - 2s 38ms/step - loss: 0.1151 - acc: 0.9609 - val_loss: 0.3692 - val_acc: 0.8691\n",
      "Epoch 8/20\n",
      "49/49 [==============================] - 2s 38ms/step - loss: 0.1050 - acc: 0.9648 - val_loss: 0.3880 - val_acc: 0.8676\n",
      "Epoch 9/20\n",
      "49/49 [==============================] - 2s 38ms/step - loss: 0.0916 - acc: 0.9692 - val_loss: 0.4006 - val_acc: 0.8674\n",
      "Epoch 10/20\n",
      "49/49 [==============================] - 2s 38ms/step - loss: 0.0835 - acc: 0.9729 - val_loss: 0.4528 - val_acc: 0.8616\n",
      "Epoch 11/20\n",
      "49/49 [==============================] - 2s 38ms/step - loss: 0.0756 - acc: 0.9748 - val_loss: 0.4569 - val_acc: 0.8632\n",
      "Epoch 12/20\n",
      "49/49 [==============================] - 2s 38ms/step - loss: 0.0686 - acc: 0.9776 - val_loss: 0.5040 - val_acc: 0.8567\n",
      "Epoch 13/20\n",
      "49/49 [==============================] - 2s 37ms/step - loss: 0.0582 - acc: 0.9827 - val_loss: 0.5316 - val_acc: 0.8586\n",
      "Epoch 14/20\n",
      "49/49 [==============================] - 2s 37ms/step - loss: 0.0525 - acc: 0.9840 - val_loss: 0.5910 - val_acc: 0.8513\n",
      "Epoch 15/20\n",
      "49/49 [==============================] - 2s 38ms/step - loss: 0.0476 - acc: 0.9851 - val_loss: 0.5859 - val_acc: 0.8546\n",
      "Epoch 16/20\n",
      "49/49 [==============================] - 2s 38ms/step - loss: 0.0411 - acc: 0.9880 - val_loss: 0.6199 - val_acc: 0.8545\n",
      "Epoch 17/20\n",
      "49/49 [==============================] - 2s 39ms/step - loss: 0.0393 - acc: 0.9884 - val_loss: 0.6720 - val_acc: 0.8498\n",
      "Epoch 18/20\n",
      "49/49 [==============================] - 2s 40ms/step - loss: 0.0305 - acc: 0.9924 - val_loss: 0.6864 - val_acc: 0.8503\n",
      "Epoch 19/20\n",
      "49/49 [==============================] - 2s 39ms/step - loss: 0.0269 - acc: 0.9928 - val_loss: 0.7555 - val_acc: 0.8472\n",
      "Epoch 20/20\n",
      "49/49 [==============================] - 2s 39ms/step - loss: 0.0245 - acc: 0.9935 - val_loss: 0.7743 - val_acc: 0.8485\n"
     ]
    }
   ],
   "source": [
    "original_hist = original_model.fit(x_train, y_train,\n",
    "                                   epochs=20,\n",
    "                                   batch_size=512,\n",
    "                                   validation_data=(x_test, y_test))"
   ]
  },
  {
   "cell_type": "code",
   "execution_count": 60,
   "metadata": {
    "colab": {
     "base_uri": "https://localhost:8080/"
    },
    "id": "cYHF1jwMj-hS",
    "outputId": "e1ac1640-2eba-4463-8364-2d77769de42e"
   },
   "outputs": [
    {
     "name": "stdout",
     "output_type": "stream",
     "text": [
      "Epoch 1/20\n",
      "49/49 [==============================] - 2s 43ms/step - loss: 0.5167 - acc: 0.7951 - val_loss: 0.4165 - val_acc: 0.8560\n",
      "Epoch 2/20\n",
      "49/49 [==============================] - 2s 33ms/step - loss: 0.3268 - acc: 0.8982 - val_loss: 0.3230 - val_acc: 0.8826\n",
      "Epoch 3/20\n",
      "49/49 [==============================] - 2s 33ms/step - loss: 0.2502 - acc: 0.9177 - val_loss: 0.2987 - val_acc: 0.8836\n",
      "Epoch 4/20\n",
      "49/49 [==============================] - 2s 32ms/step - loss: 0.2083 - acc: 0.9304 - val_loss: 0.2844 - val_acc: 0.8865\n",
      "Epoch 5/20\n",
      "49/49 [==============================] - 2s 33ms/step - loss: 0.1830 - acc: 0.9380 - val_loss: 0.2811 - val_acc: 0.8870\n",
      "Epoch 6/20\n",
      "49/49 [==============================] - 2s 34ms/step - loss: 0.1630 - acc: 0.9450 - val_loss: 0.2888 - val_acc: 0.8839\n",
      "Epoch 7/20\n",
      "49/49 [==============================] - 2s 33ms/step - loss: 0.1485 - acc: 0.9495 - val_loss: 0.3025 - val_acc: 0.8812\n",
      "Epoch 8/20\n",
      "49/49 [==============================] - 2s 33ms/step - loss: 0.1358 - acc: 0.9556 - val_loss: 0.3054 - val_acc: 0.8809\n",
      "Epoch 9/20\n",
      "49/49 [==============================] - 2s 34ms/step - loss: 0.1254 - acc: 0.9584 - val_loss: 0.3242 - val_acc: 0.8756\n",
      "Epoch 10/20\n",
      "49/49 [==============================] - 2s 33ms/step - loss: 0.1158 - acc: 0.9631 - val_loss: 0.3310 - val_acc: 0.8754\n",
      "Epoch 11/20\n",
      "49/49 [==============================] - 2s 32ms/step - loss: 0.1076 - acc: 0.9649 - val_loss: 0.3457 - val_acc: 0.8742\n",
      "Epoch 12/20\n",
      "49/49 [==============================] - 2s 32ms/step - loss: 0.0999 - acc: 0.9685 - val_loss: 0.3577 - val_acc: 0.8722\n",
      "Epoch 13/20\n",
      "49/49 [==============================] - 2s 33ms/step - loss: 0.0929 - acc: 0.9711 - val_loss: 0.3752 - val_acc: 0.8707\n",
      "Epoch 14/20\n",
      "49/49 [==============================] - 2s 33ms/step - loss: 0.0862 - acc: 0.9730 - val_loss: 0.3991 - val_acc: 0.8658\n",
      "Epoch 15/20\n",
      "49/49 [==============================] - 2s 34ms/step - loss: 0.0800 - acc: 0.9764 - val_loss: 0.4083 - val_acc: 0.8663\n",
      "Epoch 16/20\n",
      "49/49 [==============================] - 2s 33ms/step - loss: 0.0748 - acc: 0.9775 - val_loss: 0.4272 - val_acc: 0.8643\n",
      "Epoch 17/20\n",
      "49/49 [==============================] - 2s 33ms/step - loss: 0.0697 - acc: 0.9792 - val_loss: 0.4449 - val_acc: 0.8632\n",
      "Epoch 18/20\n",
      "49/49 [==============================] - 2s 33ms/step - loss: 0.0654 - acc: 0.9814 - val_loss: 0.4733 - val_acc: 0.8595\n",
      "Epoch 19/20\n",
      "49/49 [==============================] - 2s 34ms/step - loss: 0.0601 - acc: 0.9832 - val_loss: 0.4824 - val_acc: 0.8611\n",
      "Epoch 20/20\n",
      "49/49 [==============================] - 2s 34ms/step - loss: 0.0564 - acc: 0.9844 - val_loss: 0.5145 - val_acc: 0.8561\n"
     ]
    }
   ],
   "source": [
    "smaller_model_hist = smaller_model.fit(x_train, y_train,\n",
    "                                       epochs=20,\n",
    "                                       batch_size=512,\n",
    "                                       validation_data=(x_test, y_test))"
   ]
  },
  {
   "cell_type": "code",
   "execution_count": 61,
   "metadata": {
    "id": "7Bi9o8mPj0Z1"
   },
   "outputs": [],
   "source": [
    "original_val_loss = original_hist.history['val_loss']\n",
    "smaller_model_val_loss = smaller_model_hist.history['val_loss']"
   ]
  },
  {
   "cell_type": "code",
   "execution_count": 62,
   "metadata": {
    "colab": {
     "base_uri": "https://localhost:8080/",
     "height": 279
    },
    "id": "_Hedak6KkoaE",
    "outputId": "0b599f3e-e05e-4988-c857-287ca4cfd3f6"
   },
   "outputs": [
    {
     "data": {
      "image/png": "[encoded data removed]",
      "text/plain": [
       "<Figure size 432x288 with 1 Axes>"
      ]
     },
     "metadata": {
      "needs_background": "light",
      "tags": []
     },
     "output_type": "display_data"
    }
   ],
   "source": [
    "import matplotlib.pyplot as plt\n",
    "\n",
    "# b+ is for \"blue cross\"\n",
    "plt.plot(epochs, original_val_loss, 'b+', label='Original model')\n",
    "# \"bo\" is for \"blue dot\"\n",
    "plt.plot(epochs, smaller_model_val_loss, 'bo', label='Smaller model')\n",
    "plt.xlabel('Epochs')\n",
    "plt.ylabel('Validation loss')\n",
    "plt.legend()\n",
    "\n",
    "plt.show()\n"
   ]
  },
  {
   "cell_type": "markdown",
   "metadata": {
    "id": "5L4dQ151l780"
   },
   "source": [
    "The smaller network starts overfitting much later, and its performance degrades more slowly once it starts overfitting."
   ]
  },
  {
   "cell_type": "markdown",
   "metadata": {
    "id": "PzOok-GrmLKf"
   },
   "source": [
    "## Adding weight regularization"
   ]
  },
  {
   "cell_type": "markdown",
   "metadata": {
    "id": "IMDHmvxfmPgX"
   },
   "source": [
    "Another way to simplify the model (besides reducing the number of parameters) is to demand that the distribution of parameter values has less entropy. A common way to do this is to force the weights to take only **small** values, which makes the distribution of weights more **regular**. This is called weight regularization and it comes in two flavors:\n",
    "* **L1 regularization**. Limit the absolute values of the weight coefficients.\n",
    "* **L2 regularization** [also referred to as **weight decay**]. Limit the squares of the weight coefficients.\n",
    "\n",
    "Let's do one example with L2 regularization:"
   ]
  },
  {
   "cell_type": "code",
   "execution_count": 63,
   "metadata": {
    "id": "W5yryXgfmO1N"
   },
   "outputs": [],
   "source": [
    "from keras import regularizers\n",
    "\n",
    "l2_model = models.Sequential()\n",
    "l2_model.add(layers.Dense(16, kernel_regularizer=regularizers.l2(0.001),\n",
    "                          activation='relu', input_shape=(10000,)))\n",
    "l2_model.add(layers.Dense(16, kernel_regularizer=regularizers.l2(0.001),\n",
    "                          activation='relu'))\n",
    "l2_model.add(layers.Dense(1, activation='sigmoid'))"
   ]
  },
  {
   "cell_type": "markdown",
   "metadata": {
    "id": "IovXq9V80XU2"
   },
   "source": [
    "Here l2(0.001) means that every coefficient in the weight matrix of the layer will add 0.001 * weight_coefficient_value to the total loss of the network. Note that because this penalty is only added at training time, the loss for this network will be much higher at training than at test time."
   ]
  },
  {
   "cell_type": "code",
   "execution_count": 64,
   "metadata": {
    "id": "Lm0dszJw0x3E"
   },
   "outputs": [],
   "source": [
    "l2_model.compile(optimizer='rmsprop',\n",
    "                 loss='binary_crossentropy',\n",
    "                 metrics=['acc'])"
   ]
  },
  {
   "cell_type": "code",
   "execution_count": 65,
   "metadata": {
    "colab": {
     "base_uri": "https://localhost:8080/"
    },
    "id": "UBqQDjmE0lgj",
    "outputId": "7d316ddc-45ca-4862-e393-3dfa000a11bd"
   },
   "outputs": [
    {
     "name": "stdout",
     "output_type": "stream",
     "text": [
      "Epoch 1/20\n",
      "49/49 [==============================] - 2s 50ms/step - loss: 0.4857 - acc: 0.8192 - val_loss: 0.4193 - val_acc: 0.8415\n",
      "Epoch 2/20\n",
      "49/49 [==============================] - 2s 38ms/step - loss: 0.3111 - acc: 0.9055 - val_loss: 0.3436 - val_acc: 0.8834\n",
      "Epoch 3/20\n",
      "49/49 [==============================] - 2s 39ms/step - loss: 0.2688 - acc: 0.9206 - val_loss: 0.4268 - val_acc: 0.8438\n",
      "Epoch 4/20\n",
      "49/49 [==============================] - 2s 38ms/step - loss: 0.2471 - acc: 0.9298 - val_loss: 0.4026 - val_acc: 0.8580\n",
      "Epoch 5/20\n",
      "49/49 [==============================] - 2s 39ms/step - loss: 0.2405 - acc: 0.9330 - val_loss: 0.3465 - val_acc: 0.8837\n",
      "Epoch 6/20\n",
      "49/49 [==============================] - 2s 39ms/step - loss: 0.2260 - acc: 0.9389 - val_loss: 0.3602 - val_acc: 0.8806\n",
      "Epoch 7/20\n",
      "49/49 [==============================] - 2s 39ms/step - loss: 0.2232 - acc: 0.9400 - val_loss: 0.4135 - val_acc: 0.8628\n",
      "Epoch 8/20\n",
      "49/49 [==============================] - 2s 39ms/step - loss: 0.2185 - acc: 0.9404 - val_loss: 0.3716 - val_acc: 0.8772\n",
      "Epoch 9/20\n",
      "49/49 [==============================] - 2s 39ms/step - loss: 0.2115 - acc: 0.9456 - val_loss: 0.3875 - val_acc: 0.8728\n",
      "Epoch 10/20\n",
      "49/49 [==============================] - 2s 37ms/step - loss: 0.2058 - acc: 0.9466 - val_loss: 0.3932 - val_acc: 0.8731\n",
      "Epoch 11/20\n",
      "49/49 [==============================] - 2s 38ms/step - loss: 0.2026 - acc: 0.9483 - val_loss: 0.3861 - val_acc: 0.8762\n",
      "Epoch 12/20\n",
      "49/49 [==============================] - 2s 39ms/step - loss: 0.2005 - acc: 0.9496 - val_loss: 0.4309 - val_acc: 0.8622\n",
      "Epoch 13/20\n",
      "49/49 [==============================] - 2s 37ms/step - loss: 0.1911 - acc: 0.9536 - val_loss: 0.4990 - val_acc: 0.8472\n",
      "Epoch 14/20\n",
      "49/49 [==============================] - 2s 39ms/step - loss: 0.1929 - acc: 0.9537 - val_loss: 0.4264 - val_acc: 0.8657\n",
      "Epoch 15/20\n",
      "49/49 [==============================] - 2s 39ms/step - loss: 0.1863 - acc: 0.9554 - val_loss: 0.4059 - val_acc: 0.8736\n",
      "Epoch 16/20\n",
      "49/49 [==============================] - 2s 37ms/step - loss: 0.1821 - acc: 0.9579 - val_loss: 0.4765 - val_acc: 0.8544\n",
      "Epoch 17/20\n",
      "49/49 [==============================] - 2s 39ms/step - loss: 0.1815 - acc: 0.9568 - val_loss: 0.4272 - val_acc: 0.8690\n",
      "Epoch 18/20\n",
      "49/49 [==============================] - 2s 39ms/step - loss: 0.1756 - acc: 0.9595 - val_loss: 0.4322 - val_acc: 0.8681\n",
      "Epoch 19/20\n",
      "49/49 [==============================] - 2s 39ms/step - loss: 0.1723 - acc: 0.9611 - val_loss: 0.5148 - val_acc: 0.8472\n",
      "Epoch 20/20\n",
      "49/49 [==============================] - 2s 38ms/step - loss: 0.1738 - acc: 0.9604 - val_loss: 0.4479 - val_acc: 0.8656\n"
     ]
    }
   ],
   "source": [
    "l2_model_hist = l2_model.fit(x_train, y_train,\n",
    "                             epochs=20,\n",
    "                             batch_size=512,\n",
    "                             validation_data=(x_test, y_test))"
   ]
  },
  {
   "cell_type": "code",
   "execution_count": 66,
   "metadata": {
    "colab": {
     "base_uri": "https://localhost:8080/",
     "height": 279
    },
    "id": "ukNwKjAx1Bd0",
    "outputId": "8bb526fa-a872-4d4d-d111-6920c296a0fa"
   },
   "outputs": [
    {
     "data": {
      "image/png": "[encoded data removed]",
      "text/plain": [
       "<Figure size 432x288 with 1 Axes>"
      ]
     },
     "metadata": {
      "needs_background": "light",
      "tags": []
     },
     "output_type": "display_data"
    }
   ],
   "source": [
    "l2_model_val_loss = l2_model_hist.history['val_loss']\n",
    "\n",
    "plt.plot(epochs, original_val_loss, 'b+', label='Original model')\n",
    "plt.plot(epochs, l2_model_val_loss, 'bo', label='L2-regularized model')\n",
    "plt.xlabel('Epochs')\n",
    "plt.ylabel('Validation loss')\n",
    "plt.legend()\n",
    "\n",
    "plt.show()"
   ]
  },
  {
   "cell_type": "markdown",
   "metadata": {
    "id": "4BhOn6cV1tk4"
   },
   "source": [
    "The model with L2 regularization (dots) has become much more resistant to overfitting than the reference model (crosses), even though both models have the same number of parameters.\n",
    "\n",
    "As alternatives to L2 regularization, you could use one of the following Keras weight regularizers:"
   ]
  },
  {
   "cell_type": "code",
   "execution_count": 67,
   "metadata": {
    "colab": {
     "base_uri": "https://localhost:8080/"
    },
    "id": "v-AgRgVl11Oo",
    "outputId": "ed8eb3f0-c5f8-4af3-9bce-04556636adfe"
   },
   "outputs": [
    {
     "data": {
      "text/plain": [
       "<tensorflow.python.keras.regularizers.L1L2 at 0x7f47a4009358>"
      ]
     },
     "execution_count": 67,
     "metadata": {
      "tags": []
     },
     "output_type": "execute_result"
    }
   ],
   "source": [
    "from keras import regularizers\n",
    "\n",
    "# L1 regularization\n",
    "regularizers.l1(0.001)\n",
    "\n",
    "# L1 and L2 regularization at the same time\n",
    "regularizers.l1_l2(l1=0.001, l2=0.001)"
   ]
  },
  {
   "cell_type": "markdown",
   "metadata": {
    "id": "ZB_XOclK19ce"
   },
   "source": [
    "## Adding dropout"
   ]
  },
  {
   "cell_type": "markdown",
   "metadata": {
    "id": "xQcD7LwO3Aw5"
   },
   "source": [
    "**Dropout** is one of the most effective and most commonly used regularization techniques for neural networks, developed by Geoff Hinton and his students at the University of Toronto. Geoff Hinton has said that he was inspired, among other things, by a fraud prevention mechanism used by banks -- in his own words: \"I went to my bank. The tellers kept changing and I asked one of them why. He said he didn’t know but they got moved around a lot. I figured it must be because it would require cooperation between employees to successfully defraud the bank. This made me realize that randomly removing a different subset of neurons on each example would prevent conspiracies and thus reduce overfitting\"."
   ]
  },
  {
   "cell_type": "markdown",
   "metadata": {
    "id": "nzOrPT5u3Y6K"
   },
   "source": [
    "**Rough explanation**: Dropout, applied to a layer, consists of randomly \"dropping out\" (i.e. setting to zero) a number of output features of the layer during training. Let's say a given layer would normally have returned a vector [0.2, 0.5, 1.3, 0.8, 1.1] for a given input sample during training; after applying dropout, this vector will have a few zero entries distributed at random, e.g. [0, 0.5, 1.3, 0, 1.1]. The \"dropout rate\" is the fraction of the features that are being zeroed-out; it is usually set between 0.2 and 0.5. At test time, no units are dropped out, and instead the layer's output values are scaled down by a factor equal to the dropout rate, so as to balance for the fact that more units are active than at training time.\n",
    "\n",
    "**Why would this trick help?** The core idea is that introducing noise in the output values of a layer can break up happenstance patterns that are not significant (what Hinton refers to as \"conspiracies\"), which the network would start memorizing if no noise was present."
   ]
  },
  {
   "cell_type": "markdown",
   "metadata": {
    "id": "shwqEs842AGX"
   },
   "source": [
    "Additional reading: <a href=\"https://machinelearningmastery.com/dropout-for-regularizing-deep-neural-networks/\">https://machinelearningmastery.com/dropout-for-regularizing-deep-neural-networks/</a>"
   ]
  },
  {
   "cell_type": "markdown",
   "metadata": {
    "id": "iOeOGYeJ4csl"
   },
   "source": [
    "In Keras you can introduce dropout in a network via the Dropout layer, which gets applied to the output of layer right before it, e.g.:"
   ]
  },
  {
   "cell_type": "code",
   "execution_count": 68,
   "metadata": {
    "id": "9XgEJz-K4fWB"
   },
   "outputs": [],
   "source": [
    "model.add(layers.Dropout(0.5))"
   ]
  },
  {
   "cell_type": "markdown",
   "metadata": {
    "id": "h13lD9JX4jL7"
   },
   "source": [
    "Let's add two Dropout layers in our IMDB network to see how well they do at reducing overfitting:"
   ]
  },
  {
   "cell_type": "code",
   "execution_count": 69,
   "metadata": {
    "id": "c5FlH5r34oQd"
   },
   "outputs": [],
   "source": [
    "dpt_model = models.Sequential()\n",
    "dpt_model.add(layers.Dense(16, activation='relu', input_shape=(10000,)))\n",
    "dpt_model.add(layers.Dropout(0.5))\n",
    "dpt_model.add(layers.Dense(16, activation='relu'))\n",
    "dpt_model.add(layers.Dropout(0.5))\n",
    "dpt_model.add(layers.Dense(1, activation='sigmoid'))\n",
    "\n",
    "dpt_model.compile(optimizer='rmsprop',\n",
    "                  loss='binary_crossentropy',\n",
    "                  metrics=['acc'])"
   ]
  },
  {
   "cell_type": "code",
   "execution_count": 70,
   "metadata": {
    "colab": {
     "base_uri": "https://localhost:8080/"
    },
    "id": "AdCYTpCN4sq2",
    "outputId": "7a1e6ad3-7886-4cc5-b98c-bd588a47d6ea"
   },
   "outputs": [
    {
     "name": "stdout",
     "output_type": "stream",
     "text": [
      "Epoch 1/20\n",
      "49/49 [==============================] - 3s 61ms/step - loss: 0.6054 - acc: 0.6638 - val_loss: 0.4662 - val_acc: 0.8590\n",
      "Epoch 2/20\n",
      "49/49 [==============================] - 2s 38ms/step - loss: 0.4567 - acc: 0.7964 - val_loss: 0.3458 - val_acc: 0.8805\n",
      "Epoch 3/20\n",
      "49/49 [==============================] - 2s 38ms/step - loss: 0.3735 - acc: 0.8520 - val_loss: 0.3015 - val_acc: 0.8836\n",
      "Epoch 4/20\n",
      "49/49 [==============================] - 2s 38ms/step - loss: 0.3158 - acc: 0.8827 - val_loss: 0.2781 - val_acc: 0.8886\n",
      "Epoch 5/20\n",
      "49/49 [==============================] - 2s 38ms/step - loss: 0.2793 - acc: 0.8974 - val_loss: 0.2832 - val_acc: 0.8850\n",
      "Epoch 6/20\n",
      "49/49 [==============================] - 2s 39ms/step - loss: 0.2493 - acc: 0.9124 - val_loss: 0.2964 - val_acc: 0.8875\n",
      "Epoch 7/20\n",
      "49/49 [==============================] - 2s 38ms/step - loss: 0.2242 - acc: 0.9223 - val_loss: 0.2955 - val_acc: 0.8862\n",
      "Epoch 8/20\n",
      "49/49 [==============================] - 2s 38ms/step - loss: 0.2026 - acc: 0.9304 - val_loss: 0.3131 - val_acc: 0.8872\n",
      "Epoch 9/20\n",
      "49/49 [==============================] - 2s 37ms/step - loss: 0.1901 - acc: 0.9340 - val_loss: 0.3286 - val_acc: 0.8861\n",
      "Epoch 10/20\n",
      "49/49 [==============================] - 2s 37ms/step - loss: 0.1762 - acc: 0.9384 - val_loss: 0.3500 - val_acc: 0.8828\n",
      "Epoch 11/20\n",
      "49/49 [==============================] - 2s 38ms/step - loss: 0.1604 - acc: 0.9448 - val_loss: 0.3847 - val_acc: 0.8850\n",
      "Epoch 12/20\n",
      "49/49 [==============================] - 2s 38ms/step - loss: 0.1539 - acc: 0.9477 - val_loss: 0.4010 - val_acc: 0.8797\n",
      "Epoch 13/20\n",
      "49/49 [==============================] - 2s 38ms/step - loss: 0.1428 - acc: 0.9487 - val_loss: 0.4193 - val_acc: 0.8812\n",
      "Epoch 14/20\n",
      "49/49 [==============================] - 2s 37ms/step - loss: 0.1409 - acc: 0.9494 - val_loss: 0.4341 - val_acc: 0.8790\n",
      "Epoch 15/20\n",
      "49/49 [==============================] - 2s 37ms/step - loss: 0.1294 - acc: 0.9520 - val_loss: 0.4584 - val_acc: 0.8775\n",
      "Epoch 16/20\n",
      "49/49 [==============================] - 2s 39ms/step - loss: 0.1294 - acc: 0.9540 - val_loss: 0.4896 - val_acc: 0.8771\n",
      "Epoch 17/20\n",
      "49/49 [==============================] - 2s 38ms/step - loss: 0.1275 - acc: 0.9544 - val_loss: 0.4975 - val_acc: 0.8712\n",
      "Epoch 18/20\n",
      "49/49 [==============================] - 2s 37ms/step - loss: 0.1208 - acc: 0.9554 - val_loss: 0.5286 - val_acc: 0.8782\n",
      "Epoch 19/20\n",
      "49/49 [==============================] - 2s 37ms/step - loss: 0.1210 - acc: 0.9555 - val_loss: 0.5381 - val_acc: 0.8755\n",
      "Epoch 20/20\n",
      "49/49 [==============================] - 2s 37ms/step - loss: 0.1129 - acc: 0.9565 - val_loss: 0.5633 - val_acc: 0.8714\n"
     ]
    }
   ],
   "source": [
    "dpt_model_hist = dpt_model.fit(x_train, y_train,\n",
    "                               epochs=20,\n",
    "                               batch_size=512,\n",
    "                               validation_data=(x_test, y_test))"
   ]
  },
  {
   "cell_type": "code",
   "execution_count": 71,
   "metadata": {
    "colab": {
     "base_uri": "https://localhost:8080/",
     "height": 279
    },
    "id": "7gCBFuh-46lo",
    "outputId": "73197de0-eb0d-48f8-b3cd-cac31c4427fa"
   },
   "outputs": [
    {
     "data": {
      "image/png": "[encoded data removed]",
      "text/plain": [
       "<Figure size 432x288 with 1 Axes>"
      ]
     },
     "metadata": {
      "needs_background": "light",
      "tags": []
     },
     "output_type": "display_data"
    }
   ],
   "source": [
    "dpt_model_val_loss = dpt_model_hist.history['val_loss']\n",
    "\n",
    "plt.plot(epochs, original_val_loss, 'b+', label='Original model')\n",
    "plt.plot(epochs, dpt_model_val_loss, 'bo', label='Dropout-regularized model')\n",
    "plt.xlabel('Epochs')\n",
    "plt.ylabel('Validation loss')\n",
    "plt.legend()\n",
    "\n",
    "plt.show()"
   ]
  }
 ],
 "metadata": {
  "colab": {
   "collapsed_sections": [
    "rVdvbg_GWWtt",
    "97H9WpsiezZz",
    "VDxAECq2x4lj",
    "1qQ_7rENFxfb",
    "cdm35uGIK5kT",
    "N2HLyXKfQW7S",
    "0l5Y1wm7TicZ",
    "Q0hbDCWRZ-fu",
    "bzFkI08jrDNT",
    "J28jfZ0DrPU_",
    "as-17twOy4Zs",
    "PzOok-GrmLKf",
    "ZB_XOclK19ce"
   ],
   "name": "DL_NNpractice.ipynb",
   "provenance": []
  },
  "kernelspec": {
   "display_name": "Python 3",
   "language": "python",
   "name": "python3"
  },
  "language_info": {
   "codemirror_mode": {
    "name": "ipython",
    "version": 3
   },
   "file_extension": ".py",
   "mimetype": "text/x-python",
   "name": "python",
   "nbconvert_exporter": "python",
   "pygments_lexer": "ipython3",
   "version": "3.7.6"
  }
 },
 "nbformat": 4,
 "nbformat_minor": 1
}
