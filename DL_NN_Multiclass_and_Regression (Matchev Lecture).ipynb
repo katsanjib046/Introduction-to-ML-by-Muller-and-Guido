{
  "nbformat": 4,
  "nbformat_minor": 0,
  "metadata": {
    "colab": {
      "name": "DL_NN_Multiclass_and_Regression.ipynb",
      "provenance": [],
      "collapsed_sections": [
        "kJRjwnVwt1p_",
        "1bDFdHkquY8c",
        "1FGlthKazhqH",
        "mZnW0DDC1Gor",
        "hjzee-5e4Zld",
        "ymjAaHxS7GV3",
        "UzfUxKUv8oX2",
        "RCNuxqALG6cV",
        "he4F9z56-46a",
        "LoymHACv_ht_",
        "-MQO4dZAFSUy",
        "b0PvloxtF_2U",
        "ZFpiIdoYGEb4",
        "wzf9XZCaGXvb"
      ]
    },
    "kernelspec": {
      "name": "python3",
      "display_name": "Python 3"
    }
  },
  "cells": [
    {
      "cell_type": "markdown",
      "metadata": {
        "id": "kJRjwnVwt1p_"
      },
      "source": [
        "# Multiclass classification: Reuters newswires "
      ]
    },
    {
      "cell_type": "markdown",
      "metadata": {
        "id": "5Xjf4WQWuDbU"
      },
      "source": [
        "We will build a network to classify Reuters newswires into 46 different mutually-exclusive topics. Since we have many classes, this problem is an instance of \"multi-class classification\", and since each data point should be classified into only one category, the problem is more specifically an instance of \"single-label, multi-class classification\". If each data point could have belonged to multiple categories (in our case, topics) then we would be facing a \"multi-label, multi-class classification\" problem."
      ]
    },
    {
      "cell_type": "markdown",
      "metadata": {
        "id": "1bDFdHkquY8c"
      },
      "source": [
        "## The Reuters dataset"
      ]
    },
    {
      "cell_type": "markdown",
      "metadata": {
        "id": "EhkU4kTrucI7"
      },
      "source": [
        "The Reuters dataset is a set of short newswires and their topics, published by Reuters in 1986. It's a very simple, widely used toy dataset for text classification. There are 46 different topics; some topics are more represented than others, but each topic has at least 10 examples in the training set.\n",
        "\n",
        "Like IMDB and MNIST, the Reuters dataset comes packaged as part of Keras:"
      ]
    },
    {
      "cell_type": "code",
      "metadata": {
        "id": "qPZgKHBTuWvk",
        "outputId": "76e59e21-338f-4326-c862-45e3fa62f7fd",
        "colab": {
          "base_uri": "https://localhost:8080/"
        }
      },
      "source": [
        "from keras.datasets import reuters\n",
        "\n",
        "(train_data, train_labels), (test_data, test_labels) = reuters.load_data(num_words=10000)"
      ],
      "execution_count": 1,
      "outputs": [
        {
          "output_type": "stream",
          "text": [
            "Downloading data from https://storage.googleapis.com/tensorflow/tf-keras-datasets/reuters.npz\n",
            "2113536/2110848 [==============================] - 0s 0us/step\n"
          ],
          "name": "stdout"
        }
      ]
    },
    {
      "cell_type": "markdown",
      "metadata": {
        "id": "aj0aS900uxR3"
      },
      "source": [
        "Like with the IMDB dataset, the argument num_words=10000 restricts the data to the 10,000 most frequently occurring words found in the data.\n",
        "\n",
        "We have 8,982 training examples and 2,246 test examples. Check:"
      ]
    },
    {
      "cell_type": "code",
      "metadata": {
        "id": "AZOYbpYKuu0h",
        "outputId": "206a0bb6-b874-42cf-fd65-b24f11f02e48",
        "colab": {
          "base_uri": "https://localhost:8080/"
        }
      },
      "source": [
        "train_data.shape"
      ],
      "execution_count": 2,
      "outputs": [
        {
          "output_type": "execute_result",
          "data": {
            "text/plain": [
              "(8982,)"
            ]
          },
          "metadata": {
            "tags": []
          },
          "execution_count": 2
        }
      ]
    },
    {
      "cell_type": "code",
      "metadata": {
        "id": "O1UwOSJou80W",
        "outputId": "e80c73b4-bed3-46b0-cae9-d7ad1c6ab41c",
        "colab": {
          "base_uri": "https://localhost:8080/"
        }
      },
      "source": [
        "test_data.shape"
      ],
      "execution_count": 3,
      "outputs": [
        {
          "output_type": "execute_result",
          "data": {
            "text/plain": [
              "(2246,)"
            ]
          },
          "metadata": {
            "tags": []
          },
          "execution_count": 3
        }
      ]
    },
    {
      "cell_type": "code",
      "metadata": {
        "id": "s7QwGE4nvDGv",
        "outputId": "a95b1cb9-def4-475c-c58b-c67dfda2198f",
        "colab": {
          "base_uri": "https://localhost:8080/"
        }
      },
      "source": [
        "train_labels[0:20]"
      ],
      "execution_count": 6,
      "outputs": [
        {
          "output_type": "execute_result",
          "data": {
            "text/plain": [
              "array([ 3,  4,  3,  4,  4,  4,  4,  3,  3, 16,  3,  3,  4,  4, 19,  8, 16,\n",
              "        3,  3, 21])"
            ]
          },
          "metadata": {
            "tags": []
          },
          "execution_count": 6
        }
      ]
    },
    {
      "cell_type": "code",
      "metadata": {
        "id": "tNaKLUTPvU33",
        "outputId": "94901fde-c365-4791-d8e9-de9d08df519b",
        "colab": {
          "base_uri": "https://localhost:8080/"
        }
      },
      "source": [
        "test_labels[0:20]"
      ],
      "execution_count": 7,
      "outputs": [
        {
          "output_type": "execute_result",
          "data": {
            "text/plain": [
              "array([ 3, 10,  1,  4,  4,  3,  3,  3,  3,  3,  5,  4,  1,  3,  1, 11, 23,\n",
              "        3, 19,  3])"
            ]
          },
          "metadata": {
            "tags": []
          },
          "execution_count": 7
        }
      ]
    },
    {
      "cell_type": "markdown",
      "metadata": {
        "id": "_cOcePyAwSUE"
      },
      "source": [
        "As with the IMDB reviews, each example is a list of integers (word indices):"
      ]
    },
    {
      "cell_type": "code",
      "metadata": {
        "id": "1OEF9y6qve4f",
        "outputId": "a22c5d16-c8e5-4b70-b942-e97ea65ddee0",
        "colab": {
          "base_uri": "https://localhost:8080/"
        }
      },
      "source": [
        "train_data"
      ],
      "execution_count": 9,
      "outputs": [
        {
          "output_type": "execute_result",
          "data": {
            "text/plain": [
              "array([list([1, 2, 2, 8, 43, 10, 447, 5, 25, 207, 270, 5, 3095, 111, 16, 369, 186, 90, 67, 7, 89, 5, 19, 102, 6, 19, 124, 15, 90, 67, 84, 22, 482, 26, 7, 48, 4, 49, 8, 864, 39, 209, 154, 6, 151, 6, 83, 11, 15, 22, 155, 11, 15, 7, 48, 9, 4579, 1005, 504, 6, 258, 6, 272, 11, 15, 22, 134, 44, 11, 15, 16, 8, 197, 1245, 90, 67, 52, 29, 209, 30, 32, 132, 6, 109, 15, 17, 12]),\n",
              "       list([1, 3267, 699, 3434, 2295, 56, 2, 7511, 9, 56, 3906, 1073, 81, 5, 1198, 57, 366, 737, 132, 20, 4093, 7, 2, 49, 2295, 2, 1037, 3267, 699, 3434, 8, 7, 10, 241, 16, 855, 129, 231, 783, 5, 4, 587, 2295, 2, 2, 775, 7, 48, 34, 191, 44, 35, 1795, 505, 17, 12]),\n",
              "       list([1, 53, 12, 284, 15, 14, 272, 26, 53, 959, 32, 818, 15, 14, 272, 26, 39, 684, 70, 11, 14, 12, 3886, 18, 180, 183, 187, 70, 11, 14, 102, 32, 11, 29, 53, 44, 704, 15, 14, 19, 758, 15, 53, 959, 47, 1013, 15, 14, 19, 132, 15, 39, 965, 32, 11, 14, 147, 72, 11, 180, 183, 187, 44, 11, 14, 102, 19, 11, 123, 186, 90, 67, 960, 4, 78, 13, 68, 467, 511, 110, 59, 89, 90, 67, 1390, 55, 2678, 92, 617, 80, 1274, 46, 905, 220, 13, 4, 346, 48, 235, 629, 5, 211, 5, 1118, 7, 2, 81, 5, 187, 11, 15, 9, 1709, 201, 5, 47, 3615, 18, 478, 4514, 5, 1118, 7, 232, 2, 71, 5, 160, 63, 11, 9, 2, 81, 5, 102, 59, 11, 17, 12]),\n",
              "       ...,\n",
              "       list([1, 141, 3890, 387, 81, 8, 16, 1629, 10, 340, 1241, 850, 31, 56, 3890, 691, 9, 1241, 71, 9, 5985, 2, 2, 699, 2, 2, 2, 699, 244, 5945, 4, 49, 8, 4, 656, 850, 33, 2993, 9, 2139, 340, 3371, 1493, 9, 2, 22, 2, 1094, 687, 83, 35, 15, 257, 6, 57, 9190, 7, 4, 5956, 654, 5, 2, 6191, 1371, 4, 49, 8, 16, 369, 646, 6, 1076, 7, 124, 407, 17, 12]),\n",
              "       list([1, 53, 46, 957, 26, 14, 74, 132, 26, 39, 46, 258, 3614, 18, 14, 74, 134, 5131, 18, 88, 2321, 72, 11, 14, 1842, 32, 11, 123, 383, 89, 39, 46, 235, 10, 864, 728, 5, 258, 44, 11, 15, 22, 753, 9, 42, 92, 131, 728, 5, 69, 312, 11, 15, 22, 222, 2, 3237, 383, 48, 39, 74, 235, 10, 864, 276, 5, 61, 32, 11, 15, 21, 4, 211, 5, 126, 1072, 42, 92, 131, 46, 19, 352, 11, 15, 22, 710, 220, 9, 42, 92, 131, 276, 5, 59, 61, 11, 15, 22, 10, 455, 7, 1172, 137, 336, 1325, 6, 1532, 142, 971, 6463, 43, 359, 5, 4, 326, 753, 364, 17, 12]),\n",
              "       list([1, 227, 2406, 91, 2, 125, 2855, 21, 4, 3976, 76, 7, 4, 757, 481, 3976, 790, 5259, 5654, 9, 111, 149, 8, 7, 10, 76, 223, 51, 4, 417, 8, 1047, 91, 6917, 1688, 340, 7, 194, 9411, 6, 1894, 21, 127, 2151, 2394, 1456, 6, 3034, 4, 329, 433, 7, 65, 87, 1127, 10, 8219, 1475, 290, 9, 21, 567, 16, 1926, 24, 4, 76, 209, 30, 4033, 6655, 5654, 8, 4, 60, 8, 4, 966, 308, 40, 2575, 129, 2, 295, 277, 1071, 9, 24, 286, 2114, 234, 222, 9, 4, 906, 3994, 8519, 114, 5758, 1752, 7, 4, 113, 17, 12])],\n",
              "      dtype=object)"
            ]
          },
          "metadata": {
            "tags": []
          },
          "execution_count": 9
        }
      ]
    },
    {
      "cell_type": "markdown",
      "metadata": {
        "id": "wJjRXPp0wqRR"
      },
      "source": [
        "In order to decode it, we can use the Reuters dictionary: "
      ]
    },
    {
      "cell_type": "code",
      "metadata": {
        "id": "AQ5PYZDhx4Di"
      },
      "source": [
        "word_index = reuters.get_word_index()"
      ],
      "execution_count": 16,
      "outputs": []
    },
    {
      "cell_type": "code",
      "metadata": {
        "id": "YnSMe2e2xRxI",
        "outputId": "cbd29eea-7845-4d19-df04-e655028df37b",
        "colab": {
          "base_uri": "https://localhost:8080/"
        }
      },
      "source": [
        "print(\"stock market = \", word_index.get(\"stock\"), word_index.get(\"market\"))"
      ],
      "execution_count": 22,
      "outputs": [
        {
          "output_type": "stream",
          "text": [
            "stock market =  77 73\n"
          ],
          "name": "stdout"
        }
      ]
    },
    {
      "cell_type": "markdown",
      "metadata": {
        "id": "fxhtIIFbx9ti"
      },
      "source": [
        "and invert it:"
      ]
    },
    {
      "cell_type": "code",
      "metadata": {
        "id": "vSFXu-CcyEcB"
      },
      "source": [
        "reverse_word_index = dict([(value, key) for (key, value) in word_index.items()])"
      ],
      "execution_count": 17,
      "outputs": []
    },
    {
      "cell_type": "markdown",
      "metadata": {
        "id": "appSZoAjyhF-"
      },
      "source": [
        "which allows us to decode a single newswire:"
      ]
    },
    {
      "cell_type": "code",
      "metadata": {
        "id": "IHtSDwFowXUY",
        "outputId": "2259e80f-67f2-4f00-9d75-a84e12e801e8",
        "colab": {
          "base_uri": "https://localhost:8080/",
          "height": 105
        }
      },
      "source": [
        "# Note that our indices were offset by 3\n",
        "# because 0, 1 and 2 are reserved indices for \"padding\", \"start of sequence\", and \"unknown\".\n",
        "decoded_newswire = ' '.join([reverse_word_index.get(i - 3, '?') for i in train_data[2]])\n",
        "decoded_newswire"
      ],
      "execution_count": 21,
      "outputs": [
        {
          "output_type": "execute_result",
          "data": {
            "application/vnd.google.colaboratory.intrinsic+json": {
              "type": "string"
            },
            "text/plain": [
              "'? shr 3 28 dlrs vs 22 cts shr diluted 2 99 dlrs vs 22 cts net 46 0 mln vs 3 328 000 avg shrs 14 0 mln vs 15 2 mln year shr 5 41 dlrs vs 1 56 dlrs shr diluted 4 94 dlrs vs 1 50 dlrs net 78 2 mln vs 25 9 mln avg shrs 14 5 mln vs 15 1 mln note earnings per share reflect the two for one split effective january 6 1987 per share amounts are calculated after preferred stock dividends loss continuing operations for the qtr 1986 includes gains of sale of investments in ? corp of 14 mln dlrs and associated companies of 4 189 000 less writedowns of investments in national ? inc of 11 8 mln and ? corp of 15 6 mln reuter 3'"
            ]
          },
          "metadata": {
            "tags": []
          },
          "execution_count": 21
        }
      ]
    },
    {
      "cell_type": "markdown",
      "metadata": {
        "id": "Cdyg-yExxTah"
      },
      "source": [
        "The topic of the story is labelled by an integer between 0 and 45."
      ]
    },
    {
      "cell_type": "code",
      "metadata": {
        "id": "2SH3jOTbw8YO",
        "outputId": "08e11709-01dd-4d49-8fe5-9c73911e5f2b",
        "colab": {
          "base_uri": "https://localhost:8080/"
        }
      },
      "source": [
        "train_labels[2]"
      ],
      "execution_count": 23,
      "outputs": [
        {
          "output_type": "execute_result",
          "data": {
            "text/plain": [
              "3"
            ]
          },
          "metadata": {
            "tags": []
          },
          "execution_count": 23
        }
      ]
    },
    {
      "cell_type": "markdown",
      "metadata": {
        "id": "1FGlthKazhqH"
      },
      "source": [
        "## Preparing the data"
      ]
    },
    {
      "cell_type": "markdown",
      "metadata": {
        "id": "__VCY03QzkyL"
      },
      "source": [
        "We can vectorize the data with the exact same code as in the previous IMDB example:"
      ]
    },
    {
      "cell_type": "code",
      "metadata": {
        "id": "71QP0VZ5zFhB"
      },
      "source": [
        "import numpy as np\n",
        "\n",
        "def vectorize_sequences(sequences, dimension=10000):\n",
        "    results = np.zeros((len(sequences), dimension))\n",
        "    for i, sequence in enumerate(sequences):\n",
        "        results[i, sequence] = 1.\n",
        "    return results\n",
        "\n",
        "# Our vectorized training data\n",
        "x_train = vectorize_sequences(train_data)\n",
        "# Our vectorized test data\n",
        "x_test = vectorize_sequences(test_data)"
      ],
      "execution_count": 24,
      "outputs": []
    },
    {
      "cell_type": "markdown",
      "metadata": {
        "id": "ahjmgKxpz3Uo"
      },
      "source": [
        "To vectorize the labels, there are two possibilities: we could just cast the label list as an integer tensor, or we could use a \"one-hot\" encoding. One-hot encoding is a widely used format for categorical data, also called \"categorical encoding\". In our case, one-hot encoding of our labels consists in embedding each label as an all-zero vector with a 1 in the place of the label index, e.g.:"
      ]
    },
    {
      "cell_type": "code",
      "metadata": {
        "id": "4KoJ4P_T0Jjc"
      },
      "source": [
        "#def to_one_hot(labels, dimension=46):\n",
        "#    results = np.zeros((len(labels), dimension))\n",
        "#    for i, label in enumerate(labels):\n",
        "#        results[i, label] = 1.\n",
        "#    return results\n",
        "#\n",
        "## Our vectorized training labels\n",
        "#one_hot_train_labels = to_one_hot(train_labels)\n",
        "## Our vectorized test labels\n",
        "#one_hot_test_labels = to_one_hot(test_labels)"
      ],
      "execution_count": null,
      "outputs": []
    },
    {
      "cell_type": "markdown",
      "metadata": {
        "id": "Ejubc-Rd0LEh"
      },
      "source": [
        "An easier alternative is to use the built-in method in Keras:"
      ]
    },
    {
      "cell_type": "code",
      "metadata": {
        "id": "lP6W0EjJ0TSh"
      },
      "source": [
        "from keras.utils.np_utils import to_categorical\n",
        "\n",
        "one_hot_train_labels = to_categorical(train_labels)\n",
        "one_hot_test_labels = to_categorical(test_labels)"
      ],
      "execution_count": 25,
      "outputs": []
    },
    {
      "cell_type": "markdown",
      "metadata": {
        "id": "mZnW0DDC1Gor"
      },
      "source": [
        "## Building the network"
      ]
    },
    {
      "cell_type": "markdown",
      "metadata": {
        "id": "VLuXvT4P29_l"
      },
      "source": [
        "The 46-topic classification problem looks very similar to our previous movie review classification problem: in both cases, we are trying to classify short snippets of text. There is however a new constraint here: the number of output classes has gone from 2 to 46, i.e. the dimensionality of the output space is much larger.\n",
        "\n",
        "In a stack of Dense layers like what we were using, each layer can only access information present in the output of the previous layer. If one layer drops some information relevant to the classification problem, this information can never be recovered by later layers: each layer can potentially become an \"information bottleneck\". In our previous example, we were using 16-dimensional intermediate layers, but a 16-dimensional space may be too limited to learn to separate 46 different classes: such small layers may act as information bottlenecks, permanently dropping relevant information.\n",
        "\n",
        "For this reason we will use larger layers. Let's go with 64 units:"
      ]
    },
    {
      "cell_type": "code",
      "metadata": {
        "id": "EUymhatr0Z6Q"
      },
      "source": [
        "from keras import models\n",
        "from keras import layers\n",
        "\n",
        "model = models.Sequential()\n",
        "model.add(layers.Dense(64, activation='relu', input_shape=(10000,)))\n",
        "model.add(layers.Dense(64, activation='relu'))\n",
        "model.add(layers.Dense(46, activation='softmax'))"
      ],
      "execution_count": 26,
      "outputs": []
    },
    {
      "cell_type": "markdown",
      "metadata": {
        "id": "HFSUWDcy3TPQ"
      },
      "source": [
        "We are ending the network with a Dense layer of size 46. This means that for each input sample, the network will output a 46-dimensional vector. Each entry in this vector (each dimension) will encode a different output class.\n",
        "\n",
        "The last layer uses a softmax activation. It means that the network will output a probability distribution over the 46 different output classes, i.e. for every input sample, the network will produce a 46-dimensional output vector where output[i] is the probability that the sample belongs to class i. The 46 scores will sum to 1."
      ]
    },
    {
      "cell_type": "code",
      "metadata": {
        "id": "WrFRxdi94Gm2"
      },
      "source": [
        "model.compile(optimizer='rmsprop',\n",
        "              loss='categorical_crossentropy',\n",
        "              metrics=['accuracy'])"
      ],
      "execution_count": 27,
      "outputs": []
    },
    {
      "cell_type": "markdown",
      "metadata": {
        "id": "t9CZlrJb4PfS"
      },
      "source": [
        "As in the MNIST example, the best loss function to use in the case of multiclass classification is categorical_crossentropy. It measures the distance between two probability distributions: in our case, between the probability distribution output by our network, and the true distribution of the labels. By minimizing the distance between these two distributions, we train our network to output something as close as possible to the true labels."
      ]
    },
    {
      "cell_type": "markdown",
      "metadata": {
        "id": "hjzee-5e4Zld"
      },
      "source": [
        "## Fitting and validation"
      ]
    },
    {
      "cell_type": "markdown",
      "metadata": {
        "id": "V-3YF_3q4hqQ"
      },
      "source": [
        "Let's set apart 1,000 samples in our training data to use as a validation set:"
      ]
    },
    {
      "cell_type": "code",
      "metadata": {
        "id": "ngD_Dn444b2J"
      },
      "source": [
        "x_val = x_train[:1000]\n",
        "partial_x_train = x_train[1000:]\n",
        "\n",
        "y_val = one_hot_train_labels[:1000]\n",
        "partial_y_train = one_hot_train_labels[1000:]"
      ],
      "execution_count": 28,
      "outputs": []
    },
    {
      "cell_type": "markdown",
      "metadata": {
        "id": "QyKm4cj94p2i"
      },
      "source": [
        "Now let's train our network for 20 epochs:"
      ]
    },
    {
      "cell_type": "code",
      "metadata": {
        "id": "7fTKp4rt4nGn",
        "outputId": "48b5ec14-6a46-4ad0-ee06-8102750dabd4",
        "colab": {
          "base_uri": "https://localhost:8080/"
        }
      },
      "source": [
        "history = model.fit(partial_x_train,\n",
        "                    partial_y_train,\n",
        "                    epochs=20,\n",
        "                    batch_size=512,\n",
        "                    validation_data=(x_val, y_val))"
      ],
      "execution_count": 29,
      "outputs": [
        {
          "output_type": "stream",
          "text": [
            "Epoch 1/20\n",
            "16/16 [==============================] - 1s 54ms/step - loss: 2.4416 - accuracy: 0.5504 - val_loss: 1.6058 - val_accuracy: 0.6550\n",
            "Epoch 2/20\n",
            "16/16 [==============================] - 1s 42ms/step - loss: 1.3346 - accuracy: 0.7176 - val_loss: 1.2646 - val_accuracy: 0.7180\n",
            "Epoch 3/20\n",
            "16/16 [==============================] - 1s 43ms/step - loss: 1.0134 - accuracy: 0.7845 - val_loss: 1.1089 - val_accuracy: 0.7530\n",
            "Epoch 4/20\n",
            "16/16 [==============================] - 1s 42ms/step - loss: 0.7951 - accuracy: 0.8325 - val_loss: 1.0157 - val_accuracy: 0.7910\n",
            "Epoch 5/20\n",
            "16/16 [==============================] - 1s 42ms/step - loss: 0.6284 - accuracy: 0.8673 - val_loss: 0.9552 - val_accuracy: 0.8050\n",
            "Epoch 6/20\n",
            "16/16 [==============================] - 1s 42ms/step - loss: 0.4996 - accuracy: 0.8939 - val_loss: 0.9013 - val_accuracy: 0.8190\n",
            "Epoch 7/20\n",
            "16/16 [==============================] - 1s 43ms/step - loss: 0.3995 - accuracy: 0.9149 - val_loss: 0.9083 - val_accuracy: 0.8110\n",
            "Epoch 8/20\n",
            "16/16 [==============================] - 1s 45ms/step - loss: 0.3277 - accuracy: 0.9303 - val_loss: 0.9128 - val_accuracy: 0.8120\n",
            "Epoch 9/20\n",
            "16/16 [==============================] - 1s 42ms/step - loss: 0.2705 - accuracy: 0.9406 - val_loss: 0.9097 - val_accuracy: 0.8080\n",
            "Epoch 10/20\n",
            "16/16 [==============================] - 1s 44ms/step - loss: 0.2290 - accuracy: 0.9463 - val_loss: 0.9160 - val_accuracy: 0.8170\n",
            "Epoch 11/20\n",
            "16/16 [==============================] - 1s 44ms/step - loss: 0.2007 - accuracy: 0.9500 - val_loss: 0.9243 - val_accuracy: 0.8190\n",
            "Epoch 12/20\n",
            "16/16 [==============================] - 1s 44ms/step - loss: 0.1746 - accuracy: 0.9529 - val_loss: 0.9503 - val_accuracy: 0.8200\n",
            "Epoch 13/20\n",
            "16/16 [==============================] - 1s 43ms/step - loss: 0.1587 - accuracy: 0.9541 - val_loss: 0.9473 - val_accuracy: 0.8200\n",
            "Epoch 14/20\n",
            "16/16 [==============================] - 1s 44ms/step - loss: 0.1497 - accuracy: 0.9536 - val_loss: 0.9968 - val_accuracy: 0.8100\n",
            "Epoch 15/20\n",
            "16/16 [==============================] - 1s 44ms/step - loss: 0.1410 - accuracy: 0.9548 - val_loss: 1.0252 - val_accuracy: 0.8100\n",
            "Epoch 16/20\n",
            "16/16 [==============================] - 1s 44ms/step - loss: 0.1282 - accuracy: 0.9564 - val_loss: 1.0189 - val_accuracy: 0.8140\n",
            "Epoch 17/20\n",
            "16/16 [==============================] - 1s 43ms/step - loss: 0.1265 - accuracy: 0.9567 - val_loss: 1.0560 - val_accuracy: 0.8080\n",
            "Epoch 18/20\n",
            "16/16 [==============================] - 1s 44ms/step - loss: 0.1181 - accuracy: 0.9573 - val_loss: 1.1030 - val_accuracy: 0.8030\n",
            "Epoch 19/20\n",
            "16/16 [==============================] - 1s 44ms/step - loss: 0.1163 - accuracy: 0.9563 - val_loss: 1.1183 - val_accuracy: 0.7990\n",
            "Epoch 20/20\n",
            "16/16 [==============================] - 1s 43ms/step - loss: 0.1099 - accuracy: 0.9592 - val_loss: 1.1226 - val_accuracy: 0.8090\n"
          ],
          "name": "stdout"
        }
      ]
    },
    {
      "cell_type": "code",
      "metadata": {
        "id": "mfIGyRxc5K14",
        "outputId": "bfcfacdd-4e4b-4994-9f38-4669c4007334",
        "colab": {
          "base_uri": "https://localhost:8080/"
        }
      },
      "source": [
        "history"
      ],
      "execution_count": 32,
      "outputs": [
        {
          "output_type": "execute_result",
          "data": {
            "text/plain": [
              "<tensorflow.python.keras.callbacks.History at 0x7f7c9e404860>"
            ]
          },
          "metadata": {
            "tags": []
          },
          "execution_count": 32
        }
      ]
    },
    {
      "cell_type": "markdown",
      "metadata": {
        "id": "7YPFW1qO424X"
      },
      "source": [
        "\n",
        "Let's display its loss and accuracy curves:"
      ]
    },
    {
      "cell_type": "code",
      "metadata": {
        "id": "RK7LM8e84tyt",
        "outputId": "807fa1e8-d03c-469e-f670-f75a8265c01e",
        "colab": {
          "base_uri": "https://localhost:8080/",
          "height": 295
        }
      },
      "source": [
        "import matplotlib.pyplot as plt\n",
        "\n",
        "loss = history.history['loss']\n",
        "val_loss = history.history['val_loss']\n",
        "\n",
        "epochs = range(1, len(loss) + 1)\n",
        "\n",
        "plt.plot(epochs, loss, 'bo', label='Training loss')\n",
        "plt.plot(epochs, val_loss, 'b', label='Validation loss')\n",
        "plt.title('Training and validation loss')\n",
        "plt.xlabel('Epochs')\n",
        "plt.ylabel('Loss')\n",
        "plt.legend()\n",
        "\n",
        "plt.show()"
      ],
      "execution_count": 30,
      "outputs": [
        {
          "output_type": "display_data",
          "data": {
            "image/png": "[encoded data removed]",
            "text/plain": [
              "<Figure size 432x288 with 1 Axes>"
            ]
          },
          "metadata": {
            "tags": [],
            "needs_background": "light"
          }
        }
      ]
    },
    {
      "cell_type": "code",
      "metadata": {
        "id": "Ae7iPOaN47-4",
        "outputId": "fc764e81-53d8-4902-ecbc-9a0188f5e43b",
        "colab": {
          "base_uri": "https://localhost:8080/",
          "height": 295
        }
      },
      "source": [
        "plt.clf()   # clear figure\n",
        "\n",
        "acc = history.history['accuracy']\n",
        "val_acc = history.history['val_accuracy']\n",
        "\n",
        "plt.plot(epochs, acc, 'bo', label='Training acc')\n",
        "plt.plot(epochs, val_acc, 'b', label='Validation acc')\n",
        "plt.title('Training and validation accuracy')\n",
        "plt.xlabel('Epochs')\n",
        "plt.ylabel('Loss')\n",
        "plt.legend()\n",
        "\n",
        "plt.show()"
      ],
      "execution_count": 33,
      "outputs": [
        {
          "output_type": "display_data",
          "data": {
            "image/png": "[encoded data removed]",
            "text/plain": [
              "<Figure size 432x288 with 1 Axes>"
            ]
          },
          "metadata": {
            "tags": [],
            "needs_background": "light"
          }
        }
      ]
    },
    {
      "cell_type": "markdown",
      "metadata": {
        "id": "Cshrp_y55hyc"
      },
      "source": [
        "The network begins to overfit after about 9 epochs. \n",
        "\n",
        "Let's now train a new network from scratch for 9 epochs, and evaluate it on the test set."
      ]
    },
    {
      "cell_type": "code",
      "metadata": {
        "id": "eZh6qq3v5GLN",
        "outputId": "e636610f-0dfc-4530-f9be-e9f1db249bbc",
        "colab": {
          "base_uri": "https://localhost:8080/"
        }
      },
      "source": [
        "model = models.Sequential()\n",
        "model.add(layers.Dense(64, activation='relu', input_shape=(10000,)))\n",
        "model.add(layers.Dense(64, activation='relu'))\n",
        "model.add(layers.Dense(46, activation='softmax'))\n",
        "\n",
        "model.compile(optimizer='rmsprop',\n",
        "              loss='categorical_crossentropy',\n",
        "              metrics=['accuracy'])\n",
        "model.fit(partial_x_train,\n",
        "          partial_y_train,\n",
        "          epochs=9,\n",
        "          batch_size=512,\n",
        "          validation_data=(x_val, y_val))\n",
        "results = model.evaluate(x_test, one_hot_test_labels)"
      ],
      "execution_count": 34,
      "outputs": [
        {
          "output_type": "stream",
          "text": [
            "Epoch 1/9\n",
            "16/16 [==============================] - 1s 58ms/step - loss: 2.4779 - accuracy: 0.5417 - val_loss: 1.6344 - val_accuracy: 0.6270\n",
            "Epoch 2/9\n",
            "16/16 [==============================] - 1s 42ms/step - loss: 1.3479 - accuracy: 0.7184 - val_loss: 1.2757 - val_accuracy: 0.7330\n",
            "Epoch 3/9\n",
            "16/16 [==============================] - 1s 43ms/step - loss: 1.0022 - accuracy: 0.7889 - val_loss: 1.1163 - val_accuracy: 0.7600\n",
            "Epoch 4/9\n",
            "16/16 [==============================] - 1s 43ms/step - loss: 0.7900 - accuracy: 0.8319 - val_loss: 1.0185 - val_accuracy: 0.7790\n",
            "Epoch 5/9\n",
            "16/16 [==============================] - 1s 43ms/step - loss: 0.6258 - accuracy: 0.8676 - val_loss: 0.9551 - val_accuracy: 0.8000\n",
            "Epoch 6/9\n",
            "16/16 [==============================] - 1s 41ms/step - loss: 0.4997 - accuracy: 0.8949 - val_loss: 0.9232 - val_accuracy: 0.8090\n",
            "Epoch 7/9\n",
            "16/16 [==============================] - 1s 43ms/step - loss: 0.4029 - accuracy: 0.9157 - val_loss: 0.9139 - val_accuracy: 0.8080\n",
            "Epoch 8/9\n",
            "16/16 [==============================] - 1s 43ms/step - loss: 0.3243 - accuracy: 0.9316 - val_loss: 0.9161 - val_accuracy: 0.8080\n",
            "Epoch 9/9\n",
            "16/16 [==============================] - 1s 42ms/step - loss: 0.2685 - accuracy: 0.9394 - val_loss: 0.8860 - val_accuracy: 0.8230\n",
            "71/71 [==============================] - 0s 2ms/step - loss: 1.0118 - accuracy: 0.7912\n"
          ],
          "name": "stdout"
        }
      ]
    },
    {
      "cell_type": "markdown",
      "metadata": {
        "id": "2n1LLURw6O7V"
      },
      "source": [
        "Here are the final results:"
      ]
    },
    {
      "cell_type": "code",
      "metadata": {
        "id": "xb6z4vRA6LOL",
        "outputId": "f103445d-ef43-4ac7-dd7d-fd888e6ce80d",
        "colab": {
          "base_uri": "https://localhost:8080/"
        }
      },
      "source": [
        "results"
      ],
      "execution_count": 35,
      "outputs": [
        {
          "output_type": "execute_result",
          "data": {
            "text/plain": [
              "[1.0118110179901123, 0.7911843061447144]"
            ]
          },
          "metadata": {
            "tags": []
          },
          "execution_count": 35
        }
      ]
    },
    {
      "cell_type": "markdown",
      "metadata": {
        "id": "ZVlxuK916YNe"
      },
      "source": [
        "This approach reaches an accuracy of $~80\\%$."
      ]
    },
    {
      "cell_type": "markdown",
      "metadata": {
        "id": "ymjAaHxS7GV3"
      },
      "source": [
        "## Generating predictions on new data"
      ]
    },
    {
      "cell_type": "markdown",
      "metadata": {
        "id": "rWLtfbTb7Of9"
      },
      "source": [
        "Let's use the model to generate topic predictions for the stories in the test dataset:"
      ]
    },
    {
      "cell_type": "code",
      "metadata": {
        "id": "rABfeJow7Xqm"
      },
      "source": [
        "predictions = model.predict(x_test)"
      ],
      "execution_count": 36,
      "outputs": []
    },
    {
      "cell_type": "markdown",
      "metadata": {
        "id": "7_dZ1yCu7hCb"
      },
      "source": [
        "Each entry in predictions is a vector of length 46:"
      ]
    },
    {
      "cell_type": "code",
      "metadata": {
        "id": "u7IyQaHw7bdB",
        "outputId": "7e9fed6f-d118-4d67-a444-b1f55bca5036",
        "colab": {
          "base_uri": "https://localhost:8080/"
        }
      },
      "source": [
        "predictions.shape"
      ],
      "execution_count": 37,
      "outputs": [
        {
          "output_type": "execute_result",
          "data": {
            "text/plain": [
              "(2246, 46)"
            ]
          },
          "metadata": {
            "tags": []
          },
          "execution_count": 37
        }
      ]
    },
    {
      "cell_type": "code",
      "metadata": {
        "id": "k3ySlROv7u-A",
        "outputId": "bb054924-18f8-4201-b03f-5c9c52f3e6d0",
        "colab": {
          "base_uri": "https://localhost:8080/"
        }
      },
      "source": [
        "predictions[0]"
      ],
      "execution_count": 38,
      "outputs": [
        {
          "output_type": "execute_result",
          "data": {
            "text/plain": [
              "array([2.09412810e-05, 1.29616019e-04, 9.96990548e-06, 8.79489243e-01,\n",
              "       1.07068695e-01, 3.86528736e-05, 1.70599214e-05, 1.23473874e-04,\n",
              "       1.29304093e-03, 4.47403227e-06, 9.60836333e-05, 1.03076152e-03,\n",
              "       3.55629854e-05, 1.94546083e-04, 6.40990183e-05, 5.44030081e-06,\n",
              "       3.17617739e-03, 2.11748891e-04, 1.20924979e-05, 5.54427505e-04,\n",
              "       3.56280268e-03, 4.66529804e-04, 3.62279679e-05, 3.93284077e-04,\n",
              "       1.95097782e-05, 4.15772993e-05, 2.47920752e-06, 5.01642353e-05,\n",
              "       1.40912716e-05, 2.46690121e-04, 2.65985494e-04, 9.47088993e-05,\n",
              "       4.25558501e-05, 1.45644581e-05, 3.47513793e-04, 1.00519719e-05,\n",
              "       1.95938264e-04, 2.21674964e-05, 4.59737130e-05, 2.79582397e-04,\n",
              "       1.33560825e-04, 8.16061147e-05, 2.38023677e-06, 4.23103374e-05,\n",
              "       3.61578628e-07, 1.12494536e-05], dtype=float32)"
            ]
          },
          "metadata": {
            "tags": []
          },
          "execution_count": 38
        }
      ]
    },
    {
      "cell_type": "markdown",
      "metadata": {
        "id": "z7T1NV_U7oPZ"
      },
      "source": [
        "Each of those numbers is the probability that the story belongs to the respective topic. These probabilities add up to 1:"
      ]
    },
    {
      "cell_type": "code",
      "metadata": {
        "id": "rwDeVHKy7fig",
        "outputId": "1c1c25b6-86d7-442d-f03b-a09c7e9f56cd",
        "colab": {
          "base_uri": "https://localhost:8080/"
        }
      },
      "source": [
        "np.sum(predictions[0])"
      ],
      "execution_count": 39,
      "outputs": [
        {
          "output_type": "execute_result",
          "data": {
            "text/plain": [
              "1.0"
            ]
          },
          "metadata": {
            "tags": []
          },
          "execution_count": 39
        }
      ]
    },
    {
      "cell_type": "markdown",
      "metadata": {
        "id": "QK1zgs4z8HE0"
      },
      "source": [
        "We can declare the topic to be the one with the highest probability:"
      ]
    },
    {
      "cell_type": "code",
      "metadata": {
        "id": "_2kbVkkH8DDX",
        "outputId": "28054d97-3d51-4c9c-cc04-9c59666d580d",
        "colab": {
          "base_uri": "https://localhost:8080/"
        }
      },
      "source": [
        "np.argmax(predictions[0])"
      ],
      "execution_count": 40,
      "outputs": [
        {
          "output_type": "execute_result",
          "data": {
            "text/plain": [
              "3"
            ]
          },
          "metadata": {
            "tags": []
          },
          "execution_count": 40
        }
      ]
    },
    {
      "cell_type": "markdown",
      "metadata": {
        "id": "AzTDaNn08ZJr"
      },
      "source": [
        "Compare our answer to the true label:"
      ]
    },
    {
      "cell_type": "code",
      "metadata": {
        "id": "r7GffDcd8TRz",
        "outputId": "a94ec8be-d08f-44b1-eda8-f747f55488b2",
        "colab": {
          "base_uri": "https://localhost:8080/"
        }
      },
      "source": [
        "test_labels[0]"
      ],
      "execution_count": 41,
      "outputs": [
        {
          "output_type": "execute_result",
          "data": {
            "text/plain": [
              "3"
            ]
          },
          "metadata": {
            "tags": []
          },
          "execution_count": 41
        }
      ]
    },
    {
      "cell_type": "markdown",
      "metadata": {
        "id": "UzfUxKUv8oX2"
      },
      "source": [
        "## The importance of having sufficiently large intermediate layers"
      ]
    },
    {
      "cell_type": "markdown",
      "metadata": {
        "id": "lT2XwMpC83l3"
      },
      "source": [
        "Since our final outputs were 46-dimensional, we should avoid intermediate layers with much less than 46 hidden units. Now let's try to see what happens when we introduce an information bottleneck by having intermediate layers significantly less than 46-dimensional, e.g. 4-dimensional."
      ]
    },
    {
      "cell_type": "code",
      "metadata": {
        "id": "anzFLBGe81Ov",
        "outputId": "c606bd47-f1b1-456a-8835-64af9d8afc9d",
        "colab": {
          "base_uri": "https://localhost:8080/"
        }
      },
      "source": [
        "model = models.Sequential()\n",
        "model.add(layers.Dense(64, activation='relu', input_shape=(10000,)))\n",
        "model.add(layers.Dense(4, activation='relu'))\n",
        "model.add(layers.Dense(64, activation='relu'))\n",
        "model.add(layers.Dense(46, activation='softmax'))\n",
        "\n",
        "model.compile(optimizer='rmsprop',\n",
        "              loss='categorical_crossentropy',\n",
        "              metrics=['accuracy'])\n",
        "model.fit(partial_x_train,\n",
        "          partial_y_train,\n",
        "          epochs=20,\n",
        "          batch_size=128,\n",
        "          validation_data=(x_val, y_val))"
      ],
      "execution_count": 42,
      "outputs": [
        {
          "output_type": "stream",
          "text": [
            "Epoch 1/20\n",
            "63/63 [==============================] - 1s 18ms/step - loss: 2.3581 - accuracy: 0.4937 - val_loss: 1.6388 - val_accuracy: 0.5450\n",
            "Epoch 2/20\n",
            "63/63 [==============================] - 1s 16ms/step - loss: 1.3741 - accuracy: 0.6723 - val_loss: 1.3154 - val_accuracy: 0.6980\n",
            "Epoch 3/20\n",
            "63/63 [==============================] - 1s 16ms/step - loss: 1.1012 - accuracy: 0.7321 - val_loss: 1.2369 - val_accuracy: 0.7090\n",
            "Epoch 4/20\n",
            "63/63 [==============================] - 1s 16ms/step - loss: 0.9397 - accuracy: 0.7625 - val_loss: 1.2058 - val_accuracy: 0.7230\n",
            "Epoch 5/20\n",
            "63/63 [==============================] - 1s 16ms/step - loss: 0.8161 - accuracy: 0.7879 - val_loss: 1.2127 - val_accuracy: 0.7170\n",
            "Epoch 6/20\n",
            "63/63 [==============================] - 1s 16ms/step - loss: 0.7165 - accuracy: 0.8106 - val_loss: 1.3517 - val_accuracy: 0.7090\n",
            "Epoch 7/20\n",
            "63/63 [==============================] - 1s 16ms/step - loss: 0.6356 - accuracy: 0.8296 - val_loss: 1.3051 - val_accuracy: 0.7190\n",
            "Epoch 8/20\n",
            "63/63 [==============================] - 1s 16ms/step - loss: 0.5769 - accuracy: 0.8408 - val_loss: 1.3393 - val_accuracy: 0.7360\n",
            "Epoch 9/20\n",
            "63/63 [==============================] - 1s 16ms/step - loss: 0.5201 - accuracy: 0.8555 - val_loss: 1.4181 - val_accuracy: 0.7240\n",
            "Epoch 10/20\n",
            "63/63 [==============================] - 1s 16ms/step - loss: 0.4791 - accuracy: 0.8672 - val_loss: 1.5036 - val_accuracy: 0.7290\n",
            "Epoch 11/20\n",
            "63/63 [==============================] - 1s 16ms/step - loss: 0.4389 - accuracy: 0.8827 - val_loss: 1.5335 - val_accuracy: 0.7240\n",
            "Epoch 12/20\n",
            "63/63 [==============================] - 1s 16ms/step - loss: 0.4068 - accuracy: 0.8935 - val_loss: 1.6412 - val_accuracy: 0.7260\n",
            "Epoch 13/20\n",
            "63/63 [==============================] - 1s 16ms/step - loss: 0.3782 - accuracy: 0.8996 - val_loss: 1.7146 - val_accuracy: 0.7150\n",
            "Epoch 14/20\n",
            "63/63 [==============================] - 1s 16ms/step - loss: 0.3596 - accuracy: 0.9038 - val_loss: 1.8129 - val_accuracy: 0.7220\n",
            "Epoch 15/20\n",
            "63/63 [==============================] - 1s 16ms/step - loss: 0.3379 - accuracy: 0.9074 - val_loss: 1.8660 - val_accuracy: 0.7180\n",
            "Epoch 16/20\n",
            "63/63 [==============================] - 1s 16ms/step - loss: 0.3192 - accuracy: 0.9094 - val_loss: 2.0075 - val_accuracy: 0.7030\n",
            "Epoch 17/20\n",
            "63/63 [==============================] - 1s 16ms/step - loss: 0.3086 - accuracy: 0.9142 - val_loss: 2.0027 - val_accuracy: 0.7160\n",
            "Epoch 18/20\n",
            "63/63 [==============================] - 1s 16ms/step - loss: 0.2933 - accuracy: 0.9143 - val_loss: 2.0907 - val_accuracy: 0.7040\n",
            "Epoch 19/20\n",
            "63/63 [==============================] - 1s 16ms/step - loss: 0.2872 - accuracy: 0.9191 - val_loss: 2.1997 - val_accuracy: 0.7020\n",
            "Epoch 20/20\n",
            "63/63 [==============================] - 1s 16ms/step - loss: 0.2750 - accuracy: 0.9232 - val_loss: 2.2416 - val_accuracy: 0.7140\n"
          ],
          "name": "stdout"
        },
        {
          "output_type": "execute_result",
          "data": {
            "text/plain": [
              "<tensorflow.python.keras.callbacks.History at 0x7f7c9de921d0>"
            ]
          },
          "metadata": {
            "tags": []
          },
          "execution_count": 42
        }
      ]
    },
    {
      "cell_type": "markdown",
      "metadata": {
        "id": "yfA5ozO49e3y"
      },
      "source": [
        "The network accuracy drops from 79% to about 71%, a difference of 8%."
      ]
    },
    {
      "cell_type": "markdown",
      "metadata": {
        "id": "apo1JZjD99Mi"
      },
      "source": [
        "Let's make this even more extreme:"
      ]
    },
    {
      "cell_type": "code",
      "metadata": {
        "id": "ooMT52CX9V1q",
        "outputId": "f006abd8-e9b8-433b-e160-5b67032ef6bd",
        "colab": {
          "base_uri": "https://localhost:8080/"
        }
      },
      "source": [
        "model = models.Sequential()\n",
        "model.add(layers.Dense(64, activation='relu', input_shape=(10000,)))\n",
        "model.add(layers.Dense(1, activation='relu'))\n",
        "model.add(layers.Dense(64, activation='relu'))\n",
        "model.add(layers.Dense(46, activation='softmax'))\n",
        "\n",
        "model.compile(optimizer='rmsprop',\n",
        "              loss='categorical_crossentropy',\n",
        "              metrics=['accuracy'])\n",
        "model.fit(partial_x_train,\n",
        "          partial_y_train,\n",
        "          epochs=20,\n",
        "          batch_size=128,\n",
        "          validation_data=(x_val, y_val))"
      ],
      "execution_count": 45,
      "outputs": [
        {
          "output_type": "stream",
          "text": [
            "Epoch 1/20\n",
            "63/63 [==============================] - 1s 19ms/step - loss: 2.6346 - accuracy: 0.2878 - val_loss: 2.1108 - val_accuracy: 0.3540\n",
            "Epoch 2/20\n",
            "63/63 [==============================] - 1s 16ms/step - loss: 2.0358 - accuracy: 0.3532 - val_loss: 1.9809 - val_accuracy: 0.3590\n",
            "Epoch 3/20\n",
            "63/63 [==============================] - 1s 16ms/step - loss: 1.9143 - accuracy: 0.3542 - val_loss: 1.9388 - val_accuracy: 0.3640\n",
            "Epoch 4/20\n",
            "63/63 [==============================] - 1s 16ms/step - loss: 1.8461 - accuracy: 0.3543 - val_loss: 1.9024 - val_accuracy: 0.3720\n",
            "Epoch 5/20\n",
            "63/63 [==============================] - 1s 16ms/step - loss: 1.7920 - accuracy: 0.3644 - val_loss: 1.9021 - val_accuracy: 0.3810\n",
            "Epoch 6/20\n",
            "63/63 [==============================] - 1s 17ms/step - loss: 1.7505 - accuracy: 0.4034 - val_loss: 1.8987 - val_accuracy: 0.4510\n",
            "Epoch 7/20\n",
            "63/63 [==============================] - 1s 16ms/step - loss: 1.7169 - accuracy: 0.4486 - val_loss: 1.8917 - val_accuracy: 0.4740\n",
            "Epoch 8/20\n",
            "63/63 [==============================] - 1s 16ms/step - loss: 1.6861 - accuracy: 0.4866 - val_loss: 1.8919 - val_accuracy: 0.5090\n",
            "Epoch 9/20\n",
            "63/63 [==============================] - 1s 16ms/step - loss: 1.6608 - accuracy: 0.5070 - val_loss: 1.9516 - val_accuracy: 0.4970\n",
            "Epoch 10/20\n",
            "63/63 [==============================] - 1s 17ms/step - loss: 1.6357 - accuracy: 0.5228 - val_loss: 1.8952 - val_accuracy: 0.5160\n",
            "Epoch 11/20\n",
            "63/63 [==============================] - 1s 16ms/step - loss: 1.6124 - accuracy: 0.5283 - val_loss: 1.9880 - val_accuracy: 0.5110\n",
            "Epoch 12/20\n",
            "63/63 [==============================] - 1s 16ms/step - loss: 1.5911 - accuracy: 0.5372 - val_loss: 1.9201 - val_accuracy: 0.5300\n",
            "Epoch 13/20\n",
            "63/63 [==============================] - 1s 17ms/step - loss: 1.5684 - accuracy: 0.5420 - val_loss: 2.0622 - val_accuracy: 0.5090\n",
            "Epoch 14/20\n",
            "63/63 [==============================] - 1s 17ms/step - loss: 1.5526 - accuracy: 0.5494 - val_loss: 1.9676 - val_accuracy: 0.5320\n",
            "Epoch 15/20\n",
            "63/63 [==============================] - 1s 17ms/step - loss: 1.5337 - accuracy: 0.5559 - val_loss: 2.1325 - val_accuracy: 0.5110\n",
            "Epoch 16/20\n",
            "63/63 [==============================] - 1s 16ms/step - loss: 1.5131 - accuracy: 0.5606 - val_loss: 2.1840 - val_accuracy: 0.5110\n",
            "Epoch 17/20\n",
            "63/63 [==============================] - 1s 16ms/step - loss: 1.5000 - accuracy: 0.5659 - val_loss: 2.1362 - val_accuracy: 0.5180\n",
            "Epoch 18/20\n",
            "63/63 [==============================] - 1s 16ms/step - loss: 1.4794 - accuracy: 0.5742 - val_loss: 2.1136 - val_accuracy: 0.5210\n",
            "Epoch 19/20\n",
            "63/63 [==============================] - 1s 16ms/step - loss: 1.4651 - accuracy: 0.5797 - val_loss: 2.1426 - val_accuracy: 0.5230\n",
            "Epoch 20/20\n",
            "63/63 [==============================] - 1s 17ms/step - loss: 1.4513 - accuracy: 0.5796 - val_loss: 2.2226 - val_accuracy: 0.5220\n"
          ],
          "name": "stdout"
        },
        {
          "output_type": "execute_result",
          "data": {
            "text/plain": [
              "<tensorflow.python.keras.callbacks.History at 0x7f7c86be1e80>"
            ]
          },
          "metadata": {
            "tags": []
          },
          "execution_count": 45
        }
      ]
    },
    {
      "cell_type": "markdown",
      "metadata": {
        "id": "9ONFSyih-qO1"
      },
      "source": [
        "The ultimate bottleneck brings the accuracy down to 52%."
      ]
    },
    {
      "cell_type": "markdown",
      "metadata": {
        "id": "RCNuxqALG6cV"
      },
      "source": [
        "## Lessons from the classification example"
      ]
    },
    {
      "cell_type": "markdown",
      "metadata": {
        "id": "gqikSb-ZG-vM"
      },
      "source": [
        "Here's what you should take away from this example:\n",
        "\n",
        "1. If you are trying to classify data points between N classes, your network should end with a Dense layer of size N.\n",
        "2. In a single-label, multi-class classification problem, your network should end with a softmax activation, so that it will output a probability distribution over the N output classes.\n",
        "3. Categorical crossentropy is almost always the loss function you should use for such problems. It minimizes the distance between the probability distributions output by the network, and the true distribution of the targets.\n",
        "4. The standard way to handle labels in multi-class classification is: encoding the labels via \"categorical encoding\" (also known as \"one-hot  encoding\") and using categorical_crossentropy as your loss function. (There are other methods which we did not talk about.)\n",
        "5. If you need to classify data into a large number of categories, then you should avoid creating information bottlenecks in your network by having intermediate layers that are too small."
      ]
    },
    {
      "cell_type": "markdown",
      "metadata": {
        "id": "he4F9z56-46a"
      },
      "source": [
        "# Regression: Boston Housing Prices"
      ]
    },
    {
      "cell_type": "markdown",
      "metadata": {
        "id": "8o_yu0JP_HD5"
      },
      "source": [
        "We will be attempting to predict the median price of homes in a given Boston suburb in the mid-1970s, given a few data points about the suburb at the time, such as the crime rate, the local property tax rate, etc."
      ]
    },
    {
      "cell_type": "markdown",
      "metadata": {
        "id": "LoymHACv_ht_"
      },
      "source": [
        "## The Boston Housing Price dataset"
      ]
    },
    {
      "cell_type": "markdown",
      "metadata": {
        "id": "j17i_MZF_vui"
      },
      "source": [
        "This dataset has an interesting difference from our two previous examples: it has very few data points, only 506 in total, split between 404 training samples and 102 test samples, and each \"feature\" in the input data (e.g. the crime rate is a feature) has a different scale. For instance some values are proportions, which take a values between 0 and 1, others take values between 1 and 12, others between 0 and 100, etc.\n",
        "\n",
        "Let's take a look at the data:"
      ]
    },
    {
      "cell_type": "code",
      "metadata": {
        "id": "PCStBAhW_D5v",
        "outputId": "51bce306-1043-47c1-a0e3-c0adaf9cf8bc",
        "colab": {
          "base_uri": "https://localhost:8080/"
        }
      },
      "source": [
        "from keras.datasets import boston_housing\n",
        "\n",
        "(train_data, train_targets), (test_data, test_targets) =  boston_housing.load_data()"
      ],
      "execution_count": 46,
      "outputs": [
        {
          "output_type": "stream",
          "text": [
            "Downloading data from https://storage.googleapis.com/tensorflow/tf-keras-datasets/boston_housing.npz\n",
            "57344/57026 [==============================] - 0s 0us/step\n"
          ],
          "name": "stdout"
        }
      ]
    },
    {
      "cell_type": "code",
      "metadata": {
        "id": "MKK84orw_7zp",
        "outputId": "98d5f99a-c13f-4f5f-a47d-ca0f171b3250",
        "colab": {
          "base_uri": "https://localhost:8080/"
        }
      },
      "source": [
        "train_data.shape"
      ],
      "execution_count": 47,
      "outputs": [
        {
          "output_type": "execute_result",
          "data": {
            "text/plain": [
              "(404, 13)"
            ]
          },
          "metadata": {
            "tags": []
          },
          "execution_count": 47
        }
      ]
    },
    {
      "cell_type": "code",
      "metadata": {
        "id": "kGUrzBf-Ad0C",
        "outputId": "c6d9ad33-c806-4e3b-df91-816771e0b502",
        "colab": {
          "base_uri": "https://localhost:8080/"
        }
      },
      "source": [
        "test_data.shape"
      ],
      "execution_count": 48,
      "outputs": [
        {
          "output_type": "execute_result",
          "data": {
            "text/plain": [
              "(102, 13)"
            ]
          },
          "metadata": {
            "tags": []
          },
          "execution_count": 48
        }
      ]
    },
    {
      "cell_type": "code",
      "metadata": {
        "id": "2GsgmT7ZExOJ",
        "outputId": "f1187a83-434f-40c1-f325-d4ea07c7485c",
        "colab": {
          "base_uri": "https://localhost:8080/"
        }
      },
      "source": [
        "test_data[0]"
      ],
      "execution_count": 50,
      "outputs": [
        {
          "output_type": "execute_result",
          "data": {
            "text/plain": [
              "array([ 18.0846,   0.    ,  18.1   ,   0.    ,   0.679 ,   6.434 ,\n",
              "       100.    ,   1.8347,  24.    , 666.    ,  20.2   ,  27.25  ,\n",
              "        29.05  ])"
            ]
          },
          "metadata": {
            "tags": []
          },
          "execution_count": 50
        }
      ]
    },
    {
      "cell_type": "markdown",
      "metadata": {
        "id": "UsDIjhYtAB9e"
      },
      "source": [
        "As you can see, we have 404 training samples and 102 test samples. The data comprises 13 features. The 13 features in the input data are as follow:\n",
        "\n",
        "1. Per capita crime rate.\n",
        "2. Proportion of residential land zoned for lots over 25,000 square feet.\n",
        "3. Proportion of non-retail business acres per town.\n",
        "4. Charles River dummy variable (= 1 if tract bounds river; 0 otherwise).\n",
        "5. Nitric oxides concentration (parts per 10 million).\n",
        "6. Average number of rooms per dwelling.\n",
        "7. Proportion of owner-occupied units built prior to 1940.\n",
        "8. Weighted distances to five Boston employment centres.\n",
        "9. Index of accessibility to radial highways.\n",
        "10. Full-value property-tax rate per $10,000.\n",
        "11. Pupil-teacher ratio by town.\n",
        "12. 1000 * (M - 0.63) ** 2 where M is the proportion of minority people by town.\n",
        "13. % lower status of the population.\n",
        "\n",
        "The targets are the median values of owner-occupied homes, in thousands of dollars:"
      ]
    },
    {
      "cell_type": "code",
      "metadata": {
        "id": "yrKbnwLhEl9b",
        "outputId": "d5882a54-88ad-419d-b4bb-c5c5c211dd8f",
        "colab": {
          "base_uri": "https://localhost:8080/"
        }
      },
      "source": [
        "train_targets"
      ],
      "execution_count": 49,
      "outputs": [
        {
          "output_type": "execute_result",
          "data": {
            "text/plain": [
              "array([15.2, 42.3, 50. , 21.1, 17.7, 18.5, 11.3, 15.6, 15.6, 14.4, 12.1,\n",
              "       17.9, 23.1, 19.9, 15.7,  8.8, 50. , 22.5, 24.1, 27.5, 10.9, 30.8,\n",
              "       32.9, 24. , 18.5, 13.3, 22.9, 34.7, 16.6, 17.5, 22.3, 16.1, 14.9,\n",
              "       23.1, 34.9, 25. , 13.9, 13.1, 20.4, 20. , 15.2, 24.7, 22.2, 16.7,\n",
              "       12.7, 15.6, 18.4, 21. , 30.1, 15.1, 18.7,  9.6, 31.5, 24.8, 19.1,\n",
              "       22. , 14.5, 11. , 32. , 29.4, 20.3, 24.4, 14.6, 19.5, 14.1, 14.3,\n",
              "       15.6, 10.5,  6.3, 19.3, 19.3, 13.4, 36.4, 17.8, 13.5, 16.5,  8.3,\n",
              "       14.3, 16. , 13.4, 28.6, 43.5, 20.2, 22. , 23. , 20.7, 12.5, 48.5,\n",
              "       14.6, 13.4, 23.7, 50. , 21.7, 39.8, 38.7, 22.2, 34.9, 22.5, 31.1,\n",
              "       28.7, 46. , 41.7, 21. , 26.6, 15. , 24.4, 13.3, 21.2, 11.7, 21.7,\n",
              "       19.4, 50. , 22.8, 19.7, 24.7, 36.2, 14.2, 18.9, 18.3, 20.6, 24.6,\n",
              "       18.2,  8.7, 44. , 10.4, 13.2, 21.2, 37. , 30.7, 22.9, 20. , 19.3,\n",
              "       31.7, 32. , 23.1, 18.8, 10.9, 50. , 19.6,  5. , 14.4, 19.8, 13.8,\n",
              "       19.6, 23.9, 24.5, 25. , 19.9, 17.2, 24.6, 13.5, 26.6, 21.4, 11.9,\n",
              "       22.6, 19.6,  8.5, 23.7, 23.1, 22.4, 20.5, 23.6, 18.4, 35.2, 23.1,\n",
              "       27.9, 20.6, 23.7, 28. , 13.6, 27.1, 23.6, 20.6, 18.2, 21.7, 17.1,\n",
              "        8.4, 25.3, 13.8, 22.2, 18.4, 20.7, 31.6, 30.5, 20.3,  8.8, 19.2,\n",
              "       19.4, 23.1, 23. , 14.8, 48.8, 22.6, 33.4, 21.1, 13.6, 32.2, 13.1,\n",
              "       23.4, 18.9, 23.9, 11.8, 23.3, 22.8, 19.6, 16.7, 13.4, 22.2, 20.4,\n",
              "       21.8, 26.4, 14.9, 24.1, 23.8, 12.3, 29.1, 21. , 19.5, 23.3, 23.8,\n",
              "       17.8, 11.5, 21.7, 19.9, 25. , 33.4, 28.5, 21.4, 24.3, 27.5, 33.1,\n",
              "       16.2, 23.3, 48.3, 22.9, 22.8, 13.1, 12.7, 22.6, 15. , 15.3, 10.5,\n",
              "       24. , 18.5, 21.7, 19.5, 33.2, 23.2,  5. , 19.1, 12.7, 22.3, 10.2,\n",
              "       13.9, 16.3, 17. , 20.1, 29.9, 17.2, 37.3, 45.4, 17.8, 23.2, 29. ,\n",
              "       22. , 18. , 17.4, 34.6, 20.1, 25. , 15.6, 24.8, 28.2, 21.2, 21.4,\n",
              "       23.8, 31. , 26.2, 17.4, 37.9, 17.5, 20. ,  8.3, 23.9,  8.4, 13.8,\n",
              "        7.2, 11.7, 17.1, 21.6, 50. , 16.1, 20.4, 20.6, 21.4, 20.6, 36.5,\n",
              "        8.5, 24.8, 10.8, 21.9, 17.3, 18.9, 36.2, 14.9, 18.2, 33.3, 21.8,\n",
              "       19.7, 31.6, 24.8, 19.4, 22.8,  7.5, 44.8, 16.8, 18.7, 50. , 50. ,\n",
              "       19.5, 20.1, 50. , 17.2, 20.8, 19.3, 41.3, 20.4, 20.5, 13.8, 16.5,\n",
              "       23.9, 20.6, 31.5, 23.3, 16.8, 14. , 33.8, 36.1, 12.8, 18.3, 18.7,\n",
              "       19.1, 29. , 30.1, 50. , 50. , 22. , 11.9, 37.6, 50. , 22.7, 20.8,\n",
              "       23.5, 27.9, 50. , 19.3, 23.9, 22.6, 15.2, 21.7, 19.2, 43.8, 20.3,\n",
              "       33.2, 19.9, 22.5, 32.7, 22. , 17.1, 19. , 15. , 16.1, 25.1, 23.7,\n",
              "       28.7, 37.2, 22.6, 16.4, 25. , 29.8, 22.1, 17.4, 18.1, 30.3, 17.5,\n",
              "       24.7, 12.6, 26.5, 28.7, 13.3, 10.4, 24.4, 23. , 20. , 17.8,  7. ,\n",
              "       11.8, 24.4, 13.8, 19.4, 25.2, 19.4, 19.4, 29.1])"
            ]
          },
          "metadata": {
            "tags": []
          },
          "execution_count": 49
        }
      ]
    },
    {
      "cell_type": "markdown",
      "metadata": {
        "id": "W5jpODD5FMbF"
      },
      "source": [
        "The prices are typically between \\$10,000 and \\$50,000. If that sounds cheap, remember this was the mid-1970s, and these prices are not inflation-adjusted."
      ]
    },
    {
      "cell_type": "markdown",
      "metadata": {
        "id": "-MQO4dZAFSUy"
      },
      "source": [
        "## Preparing the data"
      ]
    },
    {
      "cell_type": "markdown",
      "metadata": {
        "id": "fZ52E7T0FiZV"
      },
      "source": [
        "It would be problematic to feed into a neural network values that all take wildly different ranges. The network might be able to automatically adapt to such heterogeneous data, but it would definitely make learning more difficult. A widespread best practice to deal with such data is to do feature-wise normalization: for each feature in the input data (a column in the input data matrix), we will subtract the mean of the feature and divide by the standard deviation, so that the feature will be centered around 0 and will have a unit standard deviation. This is easily done in Numpy:"
      ]
    },
    {
      "cell_type": "code",
      "metadata": {
        "id": "_YO543NDEmtL"
      },
      "source": [
        "mean = train_data.mean(axis=0)\n",
        "train_data -= mean\n",
        "std = train_data.std(axis=0)\n",
        "train_data /= std\n",
        "\n",
        "test_data -= mean\n",
        "test_data /= std"
      ],
      "execution_count": 51,
      "outputs": []
    },
    {
      "cell_type": "markdown",
      "metadata": {
        "id": "_A6I527OF4h6"
      },
      "source": [
        "Note that the quantities that we use for normalizing the test data have been computed using the training data. We should never use in our workflow any quantity computed on the test data, even for something as simple as data normalization."
      ]
    },
    {
      "cell_type": "markdown",
      "metadata": {
        "id": "b0PvloxtF_2U"
      },
      "source": [
        "## Building the network"
      ]
    },
    {
      "cell_type": "markdown",
      "metadata": {
        "id": "nf4oBgOMJLFr"
      },
      "source": [
        "Because so few samples are available, we will be using a very small network with two hidden layers, each with 64 units. In general, the less training data you have, the worse overfitting will be, and using a small network is one way to mitigate overfitting."
      ]
    },
    {
      "cell_type": "code",
      "metadata": {
        "id": "gQHyzhqFGCJO"
      },
      "source": [
        "from keras import models\n",
        "from keras import layers\n",
        "\n",
        "def build_model():\n",
        "    # Because we will need to instantiate\n",
        "    # the same model multiple times,\n",
        "    # we use a function to construct it.\n",
        "    model = models.Sequential()\n",
        "    model.add(layers.Dense(64, activation='relu',\n",
        "                           input_shape=(train_data.shape[1],)))\n",
        "    model.add(layers.Dense(64, activation='relu'))\n",
        "    model.add(layers.Dense(1))\n",
        "    model.compile(optimizer='rmsprop', loss='mse', metrics=['mae'])\n",
        "    return model"
      ],
      "execution_count": 52,
      "outputs": []
    },
    {
      "cell_type": "markdown",
      "metadata": {
        "id": "g1i46pf7JrbF"
      },
      "source": [
        "Our network ends with a single unit, and no activation (i.e. it will be linear layer). This is a typical setup for scalar regression (i.e. regression where we are trying to predict a single continuous value). Applying an activation function would constrain the range that the output can take; for instance if we applied a sigmoid activation function to our last layer, the network could only learn to predict values between 0 and 1. Here, because the last layer is purely linear, the network is free to learn to predict values in any range.\n",
        "\n",
        "Note that we are compiling the network with the mse loss function -- Mean Squared Error, the square of the difference between the predictions and the targets, a widely used loss function for regression problems.\n",
        "\n",
        "We are also monitoring a new metric during training: mae. This stands for Mean Absolute Error. It is simply the absolute value of the difference between the predictions and the targets. For instance, a MAE of 0.5 on this problem would mean that our predictions are off by \\$500 on average."
      ]
    },
    {
      "cell_type": "markdown",
      "metadata": {
        "id": "ZFpiIdoYGEb4"
      },
      "source": [
        "## Fitting and validation with K-fold validation"
      ]
    },
    {
      "cell_type": "markdown",
      "metadata": {
        "id": "bNrRWLpTJ-ji"
      },
      "source": [
        "To evaluate our network while we keep adjusting its parameters (such as the number of epochs used for training), we could simply split the data into a training set and a validation set, as we were doing in our previous examples. However, because we have so few data points, the validation set would end up being very small (e.g. about 100 examples). A consequence is that our validation scores may change a lot depending on which data points we choose to use for validation and which we choose for training, i.e. the validation scores may have a high **variance** with regard to the validation split. This would prevent us from reliably evaluating our model.\n",
        "\n",
        "The best practice in such situations is to use $K$-fold cross-validation. It consists of splitting the available data into $K$ partitions (typically $K=4$ or $K=5$), then instantiating $K$ identical models, and training each one on $K-1$ partitions while evaluating on the remaining partition. The validation score for the model used would then be the average of the $K$ validation scores obtained.\n",
        "\n",
        "In terms of code, this is straightforward:"
      ]
    },
    {
      "cell_type": "code",
      "metadata": {
        "id": "amcK7b1fGHH6",
        "outputId": "19fb2d15-8ae0-4cf7-bfd4-840dbda61491",
        "colab": {
          "base_uri": "https://localhost:8080/"
        }
      },
      "source": [
        "import numpy as np\n",
        "\n",
        "k = 4\n",
        "num_val_samples = len(train_data) // k\n",
        "num_epochs = 100\n",
        "all_scores = []\n",
        "for i in range(k):\n",
        "    print('processing fold #', i)\n",
        "    # Prepare the validation data: data from partition # k\n",
        "    val_data = train_data[i * num_val_samples: (i + 1) * num_val_samples]\n",
        "    val_targets = train_targets[i * num_val_samples: (i + 1) * num_val_samples]\n",
        "\n",
        "    # Prepare the training data: data from all other partitions\n",
        "    partial_train_data = np.concatenate(\n",
        "        [train_data[:i * num_val_samples],\n",
        "         train_data[(i + 1) * num_val_samples:]],\n",
        "        axis=0)\n",
        "    partial_train_targets = np.concatenate(\n",
        "        [train_targets[:i * num_val_samples],\n",
        "         train_targets[(i + 1) * num_val_samples:]],\n",
        "        axis=0)\n",
        "\n",
        "    # Build the Keras model (already compiled)\n",
        "    model = build_model()\n",
        "    # Train the model (in silent mode, verbose=0)\n",
        "    model.fit(partial_train_data, partial_train_targets,\n",
        "              epochs=num_epochs, batch_size=1, verbose=0)\n",
        "    # Evaluate the model on the validation data\n",
        "    val_mse, val_mae = model.evaluate(val_data, val_targets, verbose=0)\n",
        "    all_scores.append(val_mae)"
      ],
      "execution_count": 53,
      "outputs": [
        {
          "output_type": "stream",
          "text": [
            "processing fold # 0\n",
            "processing fold # 1\n",
            "processing fold # 2\n",
            "processing fold # 3\n"
          ],
          "name": "stdout"
        }
      ]
    },
    {
      "cell_type": "code",
      "metadata": {
        "id": "ic6kJnRiLlYI",
        "outputId": "af78453a-f948-4ed8-bdba-0f5437ed5c7f",
        "colab": {
          "base_uri": "https://localhost:8080/"
        }
      },
      "source": [
        "all_scores"
      ],
      "execution_count": 54,
      "outputs": [
        {
          "output_type": "execute_result",
          "data": {
            "text/plain": [
              "[2.0561254024505615, 2.4607367515563965, 3.2443315982818604, 2.522122859954834]"
            ]
          },
          "metadata": {
            "tags": []
          },
          "execution_count": 54
        }
      ]
    },
    {
      "cell_type": "code",
      "metadata": {
        "id": "0ucmc4FiLqDn",
        "outputId": "b4ffbac7-8d1c-40b1-e291-2ca1d9225ff2",
        "colab": {
          "base_uri": "https://localhost:8080/"
        }
      },
      "source": [
        "np.mean(all_scores)"
      ],
      "execution_count": 55,
      "outputs": [
        {
          "output_type": "execute_result",
          "data": {
            "text/plain": [
              "2.570829153060913"
            ]
          },
          "metadata": {
            "tags": []
          },
          "execution_count": 55
        }
      ]
    },
    {
      "cell_type": "markdown",
      "metadata": {
        "id": "ekE8aP37Lkx3"
      },
      "source": [
        "As you can notice, the different runs do indeed show rather different validation scores, from 2.1 to 3.2. Their average (2.6) is a much more reliable metric than any single of these scores -- that's the entire point of K-fold cross-validation. In this case, we are off by \\$2,600 on average, which is still significant considering that the prices range from \\$10,000 to \\$50,000.\n",
        "\n",
        "Let's try training the network for a bit longer: 500 epochs (**be patient, this will take a few minutes**). To keep a record of how well the model did at each epoch, we will modify our training loop to save the per-epoch validation score log:"
      ]
    },
    {
      "cell_type": "code",
      "metadata": {
        "id": "KzAQdS8MMhjC"
      },
      "source": [
        "from keras import backend as K\n",
        "\n",
        "# Some memory clean-up\n",
        "K.clear_session()"
      ],
      "execution_count": 56,
      "outputs": []
    },
    {
      "cell_type": "code",
      "metadata": {
        "id": "hv7n3MZfMszG",
        "outputId": "0bb77b73-4070-487a-a90e-a07e5fe20cb3",
        "colab": {
          "base_uri": "https://localhost:8080/"
        }
      },
      "source": [
        "num_epochs = 500\n",
        "all_mae_histories = []\n",
        "for i in range(k):\n",
        "    print('processing fold #', i)\n",
        "    # Prepare the validation data: data from partition # k\n",
        "    val_data = train_data[i * num_val_samples: (i + 1) * num_val_samples]\n",
        "    val_targets = train_targets[i * num_val_samples: (i + 1) * num_val_samples]\n",
        "\n",
        "    # Prepare the training data: data from all other partitions\n",
        "    partial_train_data = np.concatenate(\n",
        "        [train_data[:i * num_val_samples],\n",
        "         train_data[(i + 1) * num_val_samples:]],\n",
        "        axis=0)\n",
        "    partial_train_targets = np.concatenate(\n",
        "        [train_targets[:i * num_val_samples],\n",
        "         train_targets[(i + 1) * num_val_samples:]],\n",
        "        axis=0)\n",
        "\n",
        "    # Build the Keras model (already compiled)\n",
        "    model = build_model()\n",
        "    # Train the model (in silent mode, verbose=0)\n",
        "    history = model.fit(partial_train_data, partial_train_targets,\n",
        "                        validation_data=(val_data, val_targets),\n",
        "                        epochs=num_epochs, batch_size=1, verbose=0)\n",
        "#    mae_history = history.history['val_mean_absolute_error']\n",
        "    mae_history = history.history['val_mae']\n",
        "    all_mae_histories.append(mae_history)"
      ],
      "execution_count": 60,
      "outputs": [
        {
          "output_type": "stream",
          "text": [
            "processing fold # 0\n",
            "processing fold # 1\n",
            "processing fold # 2\n",
            "processing fold # 3\n"
          ],
          "name": "stdout"
        }
      ]
    },
    {
      "cell_type": "markdown",
      "metadata": {
        "id": "ezbp3ML6M5TN"
      },
      "source": [
        "We can then compute the average of the per-epoch MAE scores for all folds:"
      ]
    },
    {
      "cell_type": "code",
      "metadata": {
        "id": "oWURl0wSM63z"
      },
      "source": [
        "average_mae_history = [\n",
        "    np.mean([x[i] for x in all_mae_histories]) for i in range(num_epochs)]"
      ],
      "execution_count": 61,
      "outputs": []
    },
    {
      "cell_type": "markdown",
      "metadata": {
        "id": "D9vpgETVM-1c"
      },
      "source": [
        "Let's plot this:"
      ]
    },
    {
      "cell_type": "code",
      "metadata": {
        "id": "hUa6JponNCJ5",
        "outputId": "615d5fd2-a274-4df6-c2bd-71ffa0b8d5ab",
        "colab": {
          "base_uri": "https://localhost:8080/",
          "height": 279
        }
      },
      "source": [
        "import matplotlib.pyplot as plt\n",
        "\n",
        "plt.plot(range(1, len(average_mae_history) + 1), average_mae_history)\n",
        "plt.xlabel('Epochs')\n",
        "plt.ylabel('Validation MAE')\n",
        "plt.show()"
      ],
      "execution_count": 62,
      "outputs": [
        {
          "output_type": "display_data",
          "data": {
            "image/png": "[encoded data removed]",
            "text/plain": [
              "<Figure size 432x288 with 1 Axes>"
            ]
          },
          "metadata": {
            "tags": [],
            "needs_background": "light"
          }
        }
      ]
    },
    {
      "cell_type": "markdown",
      "metadata": {
        "id": "PwgJR9E9NFjl"
      },
      "source": [
        "\n",
        "It may be a bit hard to see the plot due to scaling issues and relatively high variance. Let's:\n",
        "\n",
        "1. Omit the first 10 data points, which are on a different scale from the rest of the curve.\n",
        "2. Replace each point with an exponential moving average of the previous points, to obtain a smooth curve."
      ]
    },
    {
      "cell_type": "code",
      "metadata": {
        "id": "dMwjLumPNPeB",
        "outputId": "4fe61066-c2fa-41af-f2e4-25d5be8ae8ad",
        "colab": {
          "base_uri": "https://localhost:8080/",
          "height": 281
        }
      },
      "source": [
        "def smooth_curve(points, factor=0.9):\n",
        "  smoothed_points = []\n",
        "  for point in points:\n",
        "    if smoothed_points:\n",
        "      previous = smoothed_points[-1]\n",
        "      smoothed_points.append(previous * factor + point * (1 - factor))\n",
        "    else:\n",
        "      smoothed_points.append(point)\n",
        "  return smoothed_points\n",
        "\n",
        "smooth_mae_history = smooth_curve(average_mae_history[10:])\n",
        "\n",
        "plt.plot(range(1, len(smooth_mae_history) + 1), smooth_mae_history)\n",
        "plt.xlabel('Epochs')\n",
        "plt.ylabel('Validation MAE')\n",
        "plt.show()"
      ],
      "execution_count": 63,
      "outputs": [
        {
          "output_type": "display_data",
          "data": {
            "image/png": "[encoded data removed]",
            "text/plain": [
              "<Figure size 432x288 with 1 Axes>"
            ]
          },
          "metadata": {
            "tags": [],
            "needs_background": "light"
          }
        }
      ]
    },
    {
      "cell_type": "markdown",
      "metadata": {
        "id": "l8sn-k-CPIWM"
      },
      "source": [
        "According to this plot, it seems that validation MAE stops improving significantly after 80 epochs. Past that point, we start overfitting.\n",
        "\n",
        "Once we are done tuning other parameters of our model (besides the number of epochs, we could also adjust the size of the hidden layers), we can train a final \"production\" model on all of the training data, with the best parameters, then look at its performance on the test data:"
      ]
    },
    {
      "cell_type": "code",
      "metadata": {
        "id": "EISkazsfPWc7",
        "outputId": "caa7bf94-d7f8-4d15-f01a-cf8647a0f2f9",
        "colab": {
          "base_uri": "https://localhost:8080/"
        }
      },
      "source": [
        "# Get a fresh, compiled model.\n",
        "model = build_model()\n",
        "# Train it on the entirety of the data.\n",
        "model.fit(train_data, train_targets,\n",
        "          epochs=80, batch_size=16, verbose=0)\n",
        "test_mse_score, test_mae_score = model.evaluate(test_data, test_targets)"
      ],
      "execution_count": 64,
      "outputs": [
        {
          "output_type": "stream",
          "text": [
            "4/4 [==============================] - 0s 2ms/step - loss: 18.3252 - mae: 2.7636\n"
          ],
          "name": "stdout"
        }
      ]
    },
    {
      "cell_type": "code",
      "metadata": {
        "id": "NFVgvF1yPXnQ",
        "outputId": "8e31c96a-dd6b-4eda-9e25-5c06e954af76",
        "colab": {
          "base_uri": "https://localhost:8080/"
        }
      },
      "source": [
        "test_mae_score"
      ],
      "execution_count": 65,
      "outputs": [
        {
          "output_type": "execute_result",
          "data": {
            "text/plain": [
              "2.7635743618011475"
            ]
          },
          "metadata": {
            "tags": []
          },
          "execution_count": 65
        }
      ]
    },
    {
      "cell_type": "markdown",
      "metadata": {
        "id": "1LLx82XzPbRG"
      },
      "source": [
        "We are still off by about \\$2,760."
      ]
    },
    {
      "cell_type": "markdown",
      "metadata": {
        "id": "wzf9XZCaGXvb"
      },
      "source": [
        "## Lessons from the regression example"
      ]
    },
    {
      "cell_type": "markdown",
      "metadata": {
        "id": "VAws2Er2GmSA"
      },
      "source": [
        "Here's what you should take away from this example:\n",
        "1. Regression is done using different loss functions from classification; Mean Squared Error (MSE) is a commonly used loss function for regression.\n",
        "2. Similarly, evaluation metrics to be used for regression differ from those used for classification; naturally the concept of \"accuracy\" does not apply for regression. A common regression metric is Mean Absolute Error (MAE).\n",
        "3. When features in the input data have values in different ranges, each feature should be scaled independently as a preprocessing step.\n",
        "4. When there is little data available, using K-Fold validation is a great way to reliably evaluate a model.\n",
        "5. When little training data is available, it is preferable to use a small network with very few hidden layers (typically only one or two), in order to avoid severe overfitting."
      ]
    }
  ]
}